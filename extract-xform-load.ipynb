{
 "cells": [
  {
   "cell_type": "markdown",
   "metadata": {},
   "source": [
    "## US National Parks & Yelp! Reviews"
   ]
  },
  {
   "cell_type": "code",
   "execution_count": 1,
   "metadata": {},
   "outputs": [],
   "source": [
    "# dependencies\n",
    "import pandas as pd\n",
    "from sqlalchemy import create_engine\n",
    "import requests\n",
    "import json\n",
    "from pprint import pprint\n",
    "import time \n",
    "\n",
    "# API and DB Credentials\n",
    "# from keys import db_cred\n",
    "from keys import gkey\n",
    "from keys import connection_string\n",
    "\n"
   ]
  },
  {
   "cell_type": "markdown",
   "metadata": {},
   "source": [
    "### Extract Park Data from JSON\n"
   ]
  },
  {
   "cell_type": "code",
   "execution_count": 2,
   "metadata": {},
   "outputs": [
    {
     "output_type": "execute_result",
     "data": {
      "text/plain": "                                              area  \\\n0     {'acres': '49,057.36', 'square_km': '198.5'}   \n1       {'acres': '8,256.67', 'square_km': '33.4'}   \n2     {'acres': '76,678.98', 'square_km': '310.3'}   \n3    {'acres': '242,755.94', 'square_km': '982.4'}   \n4  {'acres': '801,163.21', 'square_km': '3,242.2'}   \n\n                                  coordinates date_established_readable  \\\n0    {'latitude': 44.35, 'longitude': -68.21}         February 26, 1919   \n1  {'latitude': -14.25, 'longitude': -170.68}          October 31, 1988   \n2   {'latitude': 38.68, 'longitude': -109.57}         November 12, 1971   \n3    {'latitude': 43.75, 'longitude': -102.5}         November 10, 1978   \n4   {'latitude': 29.25, 'longitude': -103.25}             June 12, 1944   \n\n   date_established_unix                                        description  \\\n0            -1604599200  Covering most of Mount Desert Island and other...   \n1              594280800  The southernmost National Park is on three Sam...   \n2               58773600  This site features more than 2,000 natural san...   \n3              279525600  The Badlands are a collection of buttes, pinna...   \n4             -806439600  Named for the prominent bend in the Rio Grande...   \n\n                                               image  \\\n0  {'url': 'acadia.jpg', 'attribution': 'PixelBay...   \n1  {'url': 'american-samoa.jpg', 'attribution': '...   \n2  {'url': 'arches.jpg', 'attribution': 'PixelBay...   \n3  {'url': 'badlands.jpg', 'attribution': 'PixelB...   \n4  {'url': 'big-bend.jpg', 'attribution': 'PixelB...   \n\n                             nps_link  \\\n0  https://www.nps.gov/acad/index.htm   \n1  https://www.nps.gov/npsa/index.htm   \n2  https://www.nps.gov/arch/index.htm   \n3  https://www.nps.gov/badl/index.htm   \n4  https://www.nps.gov/bibe/index.htm   \n\n                                              states           title  \\\n0          [{'id': 'state_maine', 'title': 'Maine'}]          Acadia   \n1  [{'id': 'state_american-samoa', 'title': 'Amer...  American Samoa   \n2            [{'id': 'state_utah', 'title': 'Utah'}]          Arches   \n3  [{'id': 'state_south-dakota', 'title': 'South ...        Badlands   \n4          [{'id': 'state_texas', 'title': 'Texas'}]        Big Bend   \n\n                    id   visitors  world_heritage_site  \n0          park_acadia  3,303,393                False  \n1  park_american-samoa     28,892                False  \n2          park_arches  1,585,718                False  \n3        park_badlands    996,263                False  \n4        park_big-bend    388,290                False  ",
      "text/html": "<div>\n<style scoped>\n    .dataframe tbody tr th:only-of-type {\n        vertical-align: middle;\n    }\n\n    .dataframe tbody tr th {\n        vertical-align: top;\n    }\n\n    .dataframe thead th {\n        text-align: right;\n    }\n</style>\n<table border=\"1\" class=\"dataframe\">\n  <thead>\n    <tr style=\"text-align: right;\">\n      <th></th>\n      <th>area</th>\n      <th>coordinates</th>\n      <th>date_established_readable</th>\n      <th>date_established_unix</th>\n      <th>description</th>\n      <th>image</th>\n      <th>nps_link</th>\n      <th>states</th>\n      <th>title</th>\n      <th>id</th>\n      <th>visitors</th>\n      <th>world_heritage_site</th>\n    </tr>\n  </thead>\n  <tbody>\n    <tr>\n      <th>0</th>\n      <td>{'acres': '49,057.36', 'square_km': '198.5'}</td>\n      <td>{'latitude': 44.35, 'longitude': -68.21}</td>\n      <td>February 26, 1919</td>\n      <td>-1604599200</td>\n      <td>Covering most of Mount Desert Island and other...</td>\n      <td>{'url': 'acadia.jpg', 'attribution': 'PixelBay...</td>\n      <td>https://www.nps.gov/acad/index.htm</td>\n      <td>[{'id': 'state_maine', 'title': 'Maine'}]</td>\n      <td>Acadia</td>\n      <td>park_acadia</td>\n      <td>3,303,393</td>\n      <td>False</td>\n    </tr>\n    <tr>\n      <th>1</th>\n      <td>{'acres': '8,256.67', 'square_km': '33.4'}</td>\n      <td>{'latitude': -14.25, 'longitude': -170.68}</td>\n      <td>October 31, 1988</td>\n      <td>594280800</td>\n      <td>The southernmost National Park is on three Sam...</td>\n      <td>{'url': 'american-samoa.jpg', 'attribution': '...</td>\n      <td>https://www.nps.gov/npsa/index.htm</td>\n      <td>[{'id': 'state_american-samoa', 'title': 'Amer...</td>\n      <td>American Samoa</td>\n      <td>park_american-samoa</td>\n      <td>28,892</td>\n      <td>False</td>\n    </tr>\n    <tr>\n      <th>2</th>\n      <td>{'acres': '76,678.98', 'square_km': '310.3'}</td>\n      <td>{'latitude': 38.68, 'longitude': -109.57}</td>\n      <td>November 12, 1971</td>\n      <td>58773600</td>\n      <td>This site features more than 2,000 natural san...</td>\n      <td>{'url': 'arches.jpg', 'attribution': 'PixelBay...</td>\n      <td>https://www.nps.gov/arch/index.htm</td>\n      <td>[{'id': 'state_utah', 'title': 'Utah'}]</td>\n      <td>Arches</td>\n      <td>park_arches</td>\n      <td>1,585,718</td>\n      <td>False</td>\n    </tr>\n    <tr>\n      <th>3</th>\n      <td>{'acres': '242,755.94', 'square_km': '982.4'}</td>\n      <td>{'latitude': 43.75, 'longitude': -102.5}</td>\n      <td>November 10, 1978</td>\n      <td>279525600</td>\n      <td>The Badlands are a collection of buttes, pinna...</td>\n      <td>{'url': 'badlands.jpg', 'attribution': 'PixelB...</td>\n      <td>https://www.nps.gov/badl/index.htm</td>\n      <td>[{'id': 'state_south-dakota', 'title': 'South ...</td>\n      <td>Badlands</td>\n      <td>park_badlands</td>\n      <td>996,263</td>\n      <td>False</td>\n    </tr>\n    <tr>\n      <th>4</th>\n      <td>{'acres': '801,163.21', 'square_km': '3,242.2'}</td>\n      <td>{'latitude': 29.25, 'longitude': -103.25}</td>\n      <td>June 12, 1944</td>\n      <td>-806439600</td>\n      <td>Named for the prominent bend in the Rio Grande...</td>\n      <td>{'url': 'big-bend.jpg', 'attribution': 'PixelB...</td>\n      <td>https://www.nps.gov/bibe/index.htm</td>\n      <td>[{'id': 'state_texas', 'title': 'Texas'}]</td>\n      <td>Big Bend</td>\n      <td>park_big-bend</td>\n      <td>388,290</td>\n      <td>False</td>\n    </tr>\n  </tbody>\n</table>\n</div>"
     },
     "metadata": {},
     "execution_count": 2
    }
   ],
   "source": [
    "json_file = \"resources/data.json\"\n",
    "parks_df = pd.read_json(json_file)\n",
    "parks_df.head()"
   ]
  },
  {
   "cell_type": "markdown",
   "metadata": {},
   "source": [
    "### Transform Park Data"
   ]
  },
  {
   "cell_type": "code",
   "execution_count": 28,
   "metadata": {},
   "outputs": [
    {
     "output_type": "execute_result",
     "data": {
      "text/plain": "  date_established_readable  \\\n0         February 26, 1919   \n1          October 31, 1988   \n2         November 12, 1971   \n3         November 10, 1978   \n4             June 12, 1944   \n\n                                         description           title  \\\n0  Covering most of Mount Desert Island and other...          Acadia   \n1  The southernmost National Park is on three Sam...  American Samoa   \n2  This site features more than 2,000 natural san...          Arches   \n3  The Badlands are a collection of buttes, pinna...        Badlands   \n4  Named for the prominent bend in the Rio Grande...        Big Bend   \n\n                    id   visitors  world_heritage_site  \n0          park_acadia  3,303,393                False  \n1  park_american-samoa     28,892                False  \n2          park_arches  1,585,718                False  \n3        park_badlands    996,263                False  \n4        park_big-bend    388,290                False  ",
      "text/html": "<div>\n<style scoped>\n    .dataframe tbody tr th:only-of-type {\n        vertical-align: middle;\n    }\n\n    .dataframe tbody tr th {\n        vertical-align: top;\n    }\n\n    .dataframe thead th {\n        text-align: right;\n    }\n</style>\n<table border=\"1\" class=\"dataframe\">\n  <thead>\n    <tr style=\"text-align: right;\">\n      <th></th>\n      <th>date_established_readable</th>\n      <th>description</th>\n      <th>title</th>\n      <th>id</th>\n      <th>visitors</th>\n      <th>world_heritage_site</th>\n    </tr>\n  </thead>\n  <tbody>\n    <tr>\n      <th>0</th>\n      <td>February 26, 1919</td>\n      <td>Covering most of Mount Desert Island and other...</td>\n      <td>Acadia</td>\n      <td>park_acadia</td>\n      <td>3,303,393</td>\n      <td>False</td>\n    </tr>\n    <tr>\n      <th>1</th>\n      <td>October 31, 1988</td>\n      <td>The southernmost National Park is on three Sam...</td>\n      <td>American Samoa</td>\n      <td>park_american-samoa</td>\n      <td>28,892</td>\n      <td>False</td>\n    </tr>\n    <tr>\n      <th>2</th>\n      <td>November 12, 1971</td>\n      <td>This site features more than 2,000 natural san...</td>\n      <td>Arches</td>\n      <td>park_arches</td>\n      <td>1,585,718</td>\n      <td>False</td>\n    </tr>\n    <tr>\n      <th>3</th>\n      <td>November 10, 1978</td>\n      <td>The Badlands are a collection of buttes, pinna...</td>\n      <td>Badlands</td>\n      <td>park_badlands</td>\n      <td>996,263</td>\n      <td>False</td>\n    </tr>\n    <tr>\n      <th>4</th>\n      <td>June 12, 1944</td>\n      <td>Named for the prominent bend in the Rio Grande...</td>\n      <td>Big Bend</td>\n      <td>park_big-bend</td>\n      <td>388,290</td>\n      <td>False</td>\n    </tr>\n  </tbody>\n</table>\n</div>"
     },
     "metadata": {},
     "execution_count": 28
    }
   ],
   "source": [
    "natl_parks=parks_df.drop(columns=['date_established_unix','image', 'nps_link','states','area','coordinates'])\n",
    "natl_parks.set_index('title',drop=True)\n",
    "natl_parks.head()"
   ]
  },
  {
   "cell_type": "code",
   "execution_count": 4,
   "metadata": {
    "tags": []
   },
   "outputs": [],
   "source": [
    "# park_list = []\n",
    "\n",
    "# for target_search in natl_parks['title']:\n",
    "#     park_list.append(target_search)\n",
    "\n",
    "# park_list"
   ]
  },
  {
   "cell_type": "markdown",
   "metadata": {},
   "source": [
    "### Extract google places Reviews\n"
   ]
  },
  {
   "cell_type": "code",
   "execution_count": 5,
   "metadata": {
    "tags": []
   },
   "outputs": [],
   "source": [
    "# use Park DataFrame for names\n",
    "# target_search = \"acadia national park\"\n",
    "\n",
    "\n",
    "parks_dict = {}\n",
    "\n",
    "for target_search in natl_parks['title']:\n",
    "    params = {    \n",
    "        \"input\": target_search + \" national park\",\n",
    "        \"inputtype\": \"textquery\",\n",
    "        \"key\": gkey\n",
    "    }\n",
    "\n",
    "    base_url = \"https://maps.googleapis.com/maps/api/place/findplacefromtext/json\"\n",
    "\n",
    "    response = requests.get(base_url, params=params)\n",
    "\n",
    "    google_parks_data = response.json()\n",
    "    park_id = google_parks_data['candidates'][0]['place_id']\n",
    "    parks_dict[target_search] = park_id\n"
   ]
  },
  {
   "cell_type": "code",
   "execution_count": 6,
   "metadata": {},
   "outputs": [
    {
     "output_type": "execute_result",
     "data": {
      "text/plain": "{'Acadia': 'ChIJJSmiDrKjrkwRhFVV_A4i32I',\n 'American Samoa': 'ChIJRx3UY-WEpnERNJZ__Rw4Hy8',\n 'Arches': 'ChIJUaoNhhr2yoARlcQo0WnqQk8',\n 'Badlands': 'ChIJIyAFGAyHfocR8Hfm2jFeaGk',\n 'Big Bend': 'ChIJK-_lS3AX8oYRD4WDJ7x9RmQ',\n 'Biscayne': 'ChIJK4Wkv7jb2YgRv7LTOSIRIRI',\n 'Black Canyon of the Gunnison': 'ChIJ8Wo3SfxeP4cRvIuts5LWMT8',\n 'Bryce Canyon': 'ChIJLevDAsZrNYcRBm2svvvY6Ws',\n 'Canyonlands': 'ChIJqaYYRe7hR4cRquYCxalSpBU',\n 'Capitol Reef': 'ChIJU6LnB_8ASocRB_9PSFPsO94',\n 'Carlsbad Caverns': 'ChIJW9e4xBN544YRvbI7vfc91G4',\n 'Channel Islands': 'ChIJFXm2LM5S6IARzDo6cliV5PU',\n 'Congaree': 'ChIJBwa8iRQ1_4gRmiPbgxV26CE',\n 'Crater Lake': 'ChIJOePlQAgXxlQRo-MvReHyK5A',\n 'Cuyahoga Valley': 'ChIJdfUpIkjeMIgRquWefEq-yco',\n 'Death Valley': 'ChIJR4qudndLx4ARVLDye3zwycw',\n 'Denali': 'ChIJBRbQiP_zzVYRpTYZExU7tcY',\n 'Dry Tortugas': 'ChIJP5KVUbD4zogR5scig326JKo',\n 'Everglades': 'ChIJ2wVsejCo0IgRlzEvdlY-4A8',\n 'Gates of the Arctic': 'ChIJbcXUoz4vKFERYkhcRDyuSp0',\n 'Glacier': 'ChIJVVVVVRWQaFMR7F3FFSK8Fq8',\n 'Glacier Bay': 'ChIJKTncO2TDAVQR4F7rb5QiqMQ',\n 'Grand Canyon': 'ChIJFU2bda4SM4cRKSCRyb6pOB8',\n 'Grand Teton': 'ChIJd8WCU2GrU1MRYZXka9xjvIY',\n 'Great Basin': 'ChIJAw3M1yVcsYARMb2-rw911Dw',\n 'Great Sand Dunes': 'ChIJx8vZHeYvFIcR2YMP0IqR1zM',\n 'Great Smoky Mountains': 'ChIJFRj7iGuYXogRYSR1p8Fvkjw',\n 'Guadalupe Mountains': 'ChIJBRDHA88Z5IYR6j2_UzQLfxI',\n 'Haleakala': 'ChIJs6VMjG23VHkR_iOK9eJFt4Q',\n 'Hawaii Volcanoes': 'ChIJscm5wLZhUXkRJq6EPCZ7Wz4',\n 'Hot Springs': 'ChIJlfUUPk8qzYcR3UgpdjlmLVg',\n 'Isle Royale': 'ChIJoZYDbByDWU0RXzugIWJZcsI',\n 'Joshua Tree': 'ChIJe6hluYWP2oAR4p3rOqftdxk',\n 'Katmai': 'ChIJlVS0K-7C6VYR8unqDr4HTUw',\n 'Kenai Fjords': 'ChIJCaoIBmOcx1YRZNwuJ-08FBI',\n 'Kings Canyon': 'ChIJe6fxX-7Vv4ARTA9DcLeDZII',\n 'Kobuk Valley': 'ChIJE-20n-0s0lARk3RiU6AV2_g',\n 'Lake Clark': 'ChIJ3zB887XwxFYRyVL1kgdfI24',\n 'Lassen Volcanic': 'ChIJvzhBwQdWnYARQmdmeqfYNI8',\n 'Mammoth Cave': 'ChIJV3vJlE0CZogRwKOAYKCziB8',\n 'Mesa Verde': 'ChIJH3HXLr9gOYcRYxj2G6KV9nk',\n 'Mount Rainier': 'ChIJh0vJ7ubNkFQRGKSRT_uh9Fw',\n 'North Cascades': 'ChIJTx-7A5iIhFQRKWXpEuIHTdI',\n 'Olympic': 'ChIJ0XIEzwmAjlQRUXl9squHIAA',\n 'Petrified Forest': 'ChIJGxCFckadL4cRvzW0SUXpz64',\n 'Pinnacles': 'ChIJn93OiYBDkoAR7kSomO77gps',\n 'Redwood': 'ChIJ2WTus2UF0VQRlKGoBBkxpUg',\n 'Rocky Mountain': 'ChIJ6QNZReR5aYcRF4KOp0PuJ_o',\n 'Saguaro': 'ChIJY3ZWFrpv1oYRKo6u5b-Wx5E',\n 'Sequoia': 'ChIJeWUZLX37v4ARZPQen_nfCkQ',\n 'Shenandoah': 'ChIJESb8ihdhtIkRMYiMZWR5F-Y',\n 'Theodore Roosevelt': 'ChIJk_529_7nJVMRq8ScuXcuYZU',\n 'Virgin Islands': 'ChIJm6uiKCASBYwRBgHYhIjkW7c',\n 'Voyageurs': 'ChIJq6qqqqpNu1IRWh4CslrEFeQ',\n 'Wind Cave': 'ChIJc9VWJGjWfIcRf6VZJY9Q7Tk',\n 'Wrangell–St. Elias': 'ChIJ4bir1D2LtFYR-KY3OpJmegs',\n 'Yellowstone': 'ChIJVVVVVVXlUVMRu-GPNDD5qKw',\n 'Yosemite': 'ChIJxeyK9Z3wloAR_gOA7SycJC0',\n 'Zion': 'ChIJ2fhEiNDqyoAR9VY2qhU6Lnw'}"
     },
     "metadata": {},
     "execution_count": 6
    }
   ],
   "source": [
    "parks_dict"
   ]
  },
  {
   "cell_type": "code",
   "execution_count": 7,
   "metadata": {
    "tags": []
   },
   "outputs": [],
   "source": [
    "# google_parks_data = response.json()\n",
    "# p_id = google_parks_data['candidates'][0]['place_id']\n",
    "# print(p_id)"
   ]
  },
  {
   "cell_type": "code",
   "execution_count": 8,
   "metadata": {
    "tags": []
   },
   "outputs": [],
   "source": [
    "# possible .iterrows\n",
    "# for key in parks_dict:\n",
    "#     print(key, parks_dict[key])"
   ]
  },
  {
   "cell_type": "code",
   "execution_count": 23,
   "metadata": {
    "tags": []
   },
   "outputs": [
    {
     "output_type": "stream",
     "name": "stdout",
     "text": "Acadia National Park\nNational Park of American Samoa\n'rating' American Samoa National Park of American Samoa\nArches National Park\nBadlands National Park\nBig Bend National Park\nBiscayne National Park\nBlack Canyon of the Gunnison National Park\nBryce Canyon National Park\n'rating' Bryce Canyon Bryce Canyon National Park\nCanyonlands National Park\nCapitol Reef National Park\nCarlsbad Caverns National Park\nChannel Islands National Park\nCongaree National Park\nCrater Lake National Park\nCuyahoga Valley National Park\nDeath Valley National Park\nDenali National Park and Preserve\nDry Tortugas\n'rating' Dry Tortugas Dry Tortugas\nEverglades National Park\nGates of the Arctic National Park and Preserve\nGlacier National Park\n'rating' Glacier Glacier National Park\nGlacier Bay Basin\nGrand Canyon National Park\n'rating' Grand Canyon Grand Canyon National Park\nGrand Teton\nGreat Basin National Park\nGreat Sand Dunes National Park and Preserve\nGreat Smoky Mountains National Park\n'rating' Great Smoky Mountains Great Smoky Mountains National Park\nGuadalupe Peak\nHaleakalā\nHawaiʻi Volcanoes National Park\nHot Springs National Park\nIsle Royale National Park\nJoshua Tree National Park\nKatmai National Park and Preserve\nKenai Fjords National Park\nKings Canyon National Park\n'rating' Kings Canyon Kings Canyon National Park\nKobuk Valley National Park\nLake Clark National Park and Preserve\n'rating' Lake Clark Lake Clark National Park and Preserve\nLassen Volcanic National Park\nMammoth Cave National Park\nMesa Verde National Park\nMount Rainier National Park\nOlympic National Park\nPetrified Forest National Park\n'rating' Petrified Forest Petrified Forest National Park\nPinnacles National Park\nRedwood State Park\nRocky Mountain National Park\nSaguaro National Park\nSequoia National Park\n'rating' Sequoia Sequoia National Park\nShenandoah National Park\n'rating' Shenandoah Shenandoah National Park\nTheodore Roosevelt National Park\nVirgin Islands National Park\nVoyageurs National Park\nWind Cave National Park\nWrangell Mountains\nYellowstone National Park\nYosemite National Park\nZion National Park\n"
    }
   ],
   "source": [
    "\n",
    "park_title = []\n",
    "park_name = []\n",
    "park_rating = []\n",
    "park_total_ratings = []\n",
    "\n",
    "for key in parks_dict:\n",
    "\n",
    "    if key != 'North Cascades':\n",
    "\n",
    "        place_id = parks_dict[key]\n",
    "\n",
    "        params2 = {    \n",
    "            \"place_id\": place_id,\n",
    "            \"key\": gkey\n",
    "        }\n",
    "\n",
    "        base_detail_url= \"https://maps.googleapis.com/maps/api/place/details/json\"\n",
    "\n",
    "        try:\n",
    "\n",
    "            response2 = requests.get(base_detail_url, params=params2)\n",
    "            # time.sleep(10)\n",
    "            park_details = response2.json()\n",
    "\n",
    "            print(park_details[\"result\"][\"name\"])\n",
    "\n",
    "            park_title.append(key)\n",
    "            park_name.append(park_details[\"result\"][\"name\"])\n",
    "            park_rating.append(park_details[\"result\"][\"rating\"])\n",
    "            park_total_ratings.append(park_details[\"result\"][\"user_ratings_total\"])\n",
    "\n",
    "        except Exception as e:\n",
    "            print(e, key, park_details[\"result\"][\"name\"])\n",
    "            continue\n",
    "\n"
   ]
  },
  {
   "cell_type": "code",
   "execution_count": 24,
   "metadata": {},
   "outputs": [
    {
     "output_type": "execute_result",
     "data": {
      "text/plain": "['Acadia National Park',\n 'National Park of American Samoa',\n 'Arches National Park',\n 'Badlands National Park',\n 'Big Bend National Park',\n 'Biscayne National Park',\n 'Black Canyon of the Gunnison National Park',\n 'Bryce Canyon National Park',\n 'Canyonlands National Park',\n 'Capitol Reef National Park',\n 'Carlsbad Caverns National Park',\n 'Channel Islands National Park',\n 'Congaree National Park',\n 'Crater Lake National Park',\n 'Cuyahoga Valley National Park',\n 'Death Valley National Park',\n 'Denali National Park and Preserve',\n 'Dry Tortugas',\n 'Everglades National Park',\n 'Gates of the Arctic National Park and Preserve',\n 'Glacier National Park',\n 'Glacier Bay Basin',\n 'Grand Canyon National Park',\n 'Grand Teton',\n 'Great Basin National Park',\n 'Great Sand Dunes National Park and Preserve',\n 'Great Smoky Mountains National Park',\n 'Guadalupe Peak',\n 'Haleakalā',\n 'Hawaiʻi Volcanoes National Park',\n 'Hot Springs National Park',\n 'Isle Royale National Park',\n 'Joshua Tree National Park',\n 'Katmai National Park and Preserve',\n 'Kenai Fjords National Park',\n 'Kings Canyon National Park',\n 'Kobuk Valley National Park',\n 'Lake Clark National Park and Preserve',\n 'Lassen Volcanic National Park',\n 'Mammoth Cave National Park',\n 'Mesa Verde National Park',\n 'Mount Rainier National Park',\n 'Olympic National Park',\n 'Petrified Forest National Park',\n 'Pinnacles National Park',\n 'Redwood State Park',\n 'Rocky Mountain National Park',\n 'Saguaro National Park',\n 'Sequoia National Park',\n 'Shenandoah National Park',\n 'Theodore Roosevelt National Park',\n 'Virgin Islands National Park',\n 'Voyageurs National Park',\n 'Wind Cave National Park',\n 'Wrangell Mountains',\n 'Yellowstone National Park',\n 'Yosemite National Park',\n 'Zion National Park']"
     },
     "metadata": {},
     "execution_count": 24
    }
   ],
   "source": [
    "park_name"
   ]
  },
  {
   "cell_type": "code",
   "execution_count": 29,
   "metadata": {},
   "outputs": [
    {
     "output_type": "execute_result",
     "data": {
      "text/plain": "            title                             name  rating  total_ratings\n0          Acadia             Acadia National Park     4.9          12080\n1  American Samoa  National Park of American Samoa     4.8          19016\n2          Arches             Arches National Park     4.9          10188\n3        Badlands           Badlands National Park     4.8           3309\n4        Big Bend           Big Bend National Park     4.7           1650",
      "text/html": "<div>\n<style scoped>\n    .dataframe tbody tr th:only-of-type {\n        vertical-align: middle;\n    }\n\n    .dataframe tbody tr th {\n        vertical-align: top;\n    }\n\n    .dataframe thead th {\n        text-align: right;\n    }\n</style>\n<table border=\"1\" class=\"dataframe\">\n  <thead>\n    <tr style=\"text-align: right;\">\n      <th></th>\n      <th>title</th>\n      <th>name</th>\n      <th>rating</th>\n      <th>total_ratings</th>\n    </tr>\n  </thead>\n  <tbody>\n    <tr>\n      <th>0</th>\n      <td>Acadia</td>\n      <td>Acadia National Park</td>\n      <td>4.9</td>\n      <td>12080</td>\n    </tr>\n    <tr>\n      <th>1</th>\n      <td>American Samoa</td>\n      <td>National Park of American Samoa</td>\n      <td>4.8</td>\n      <td>19016</td>\n    </tr>\n    <tr>\n      <th>2</th>\n      <td>Arches</td>\n      <td>Arches National Park</td>\n      <td>4.9</td>\n      <td>10188</td>\n    </tr>\n    <tr>\n      <th>3</th>\n      <td>Badlands</td>\n      <td>Badlands National Park</td>\n      <td>4.8</td>\n      <td>3309</td>\n    </tr>\n    <tr>\n      <th>4</th>\n      <td>Big Bend</td>\n      <td>Big Bend National Park</td>\n      <td>4.7</td>\n      <td>1650</td>\n    </tr>\n  </tbody>\n</table>\n</div>"
     },
     "metadata": {},
     "execution_count": 29
    }
   ],
   "source": [
    "google_data = pd.DataFrame(zip(park_title, park_name, park_rating, park_total_ratings), columns=['title', 'name', 'rating', 'total_ratings'])\n",
    "\n",
    "google_data.head()"
   ]
  },
  {
   "cell_type": "markdown",
   "metadata": {},
   "source": [
    "### Create Database Connection"
   ]
  },
  {
   "cell_type": "code",
   "execution_count": 5,
   "metadata": {},
   "outputs": [
    {
     "output_type": "error",
     "ename": "ModuleNotFoundError",
     "evalue": "No module named 'psycopg2'",
     "traceback": [
      "\u001b[1;31m---------------------------------------------------------------------------\u001b[0m",
      "\u001b[1;31mModuleNotFoundError\u001b[0m                       Traceback (most recent call last)",
      "\u001b[1;32m<ipython-input-5-5893509ee020>\u001b[0m in \u001b[0;36m<module>\u001b[1;34m\u001b[0m\n\u001b[0;32m      1\u001b[0m \u001b[0mconnection\u001b[0m\u001b[1;33m=\u001b[0m\u001b[1;34mf'{connection_string}@localhost:5432/national_parks'\u001b[0m\u001b[1;33m\u001b[0m\u001b[1;33m\u001b[0m\u001b[0m\n\u001b[1;32m----> 2\u001b[1;33m \u001b[0mengine\u001b[0m \u001b[1;33m=\u001b[0m \u001b[0mcreate_engine\u001b[0m\u001b[1;33m(\u001b[0m\u001b[1;34mf'postgresql://{connection}'\u001b[0m\u001b[1;33m)\u001b[0m\u001b[1;33m\u001b[0m\u001b[1;33m\u001b[0m\u001b[0m\n\u001b[0m",
      "\u001b[1;32m~\\anaconda3\\lib\\site-packages\\sqlalchemy\\engine\\__init__.py\u001b[0m in \u001b[0;36mcreate_engine\u001b[1;34m(*args, **kwargs)\u001b[0m\n\u001b[0;32m    477\u001b[0m     \u001b[0mstrategy\u001b[0m \u001b[1;33m=\u001b[0m \u001b[0mkwargs\u001b[0m\u001b[1;33m.\u001b[0m\u001b[0mpop\u001b[0m\u001b[1;33m(\u001b[0m\u001b[1;34m\"strategy\"\u001b[0m\u001b[1;33m,\u001b[0m \u001b[0mdefault_strategy\u001b[0m\u001b[1;33m)\u001b[0m\u001b[1;33m\u001b[0m\u001b[1;33m\u001b[0m\u001b[0m\n\u001b[0;32m    478\u001b[0m     \u001b[0mstrategy\u001b[0m \u001b[1;33m=\u001b[0m \u001b[0mstrategies\u001b[0m\u001b[1;33m.\u001b[0m\u001b[0mstrategies\u001b[0m\u001b[1;33m[\u001b[0m\u001b[0mstrategy\u001b[0m\u001b[1;33m]\u001b[0m\u001b[1;33m\u001b[0m\u001b[1;33m\u001b[0m\u001b[0m\n\u001b[1;32m--> 479\u001b[1;33m     \u001b[1;32mreturn\u001b[0m \u001b[0mstrategy\u001b[0m\u001b[1;33m.\u001b[0m\u001b[0mcreate\u001b[0m\u001b[1;33m(\u001b[0m\u001b[1;33m*\u001b[0m\u001b[0margs\u001b[0m\u001b[1;33m,\u001b[0m \u001b[1;33m**\u001b[0m\u001b[0mkwargs\u001b[0m\u001b[1;33m)\u001b[0m\u001b[1;33m\u001b[0m\u001b[1;33m\u001b[0m\u001b[0m\n\u001b[0m\u001b[0;32m    480\u001b[0m \u001b[1;33m\u001b[0m\u001b[0m\n\u001b[0;32m    481\u001b[0m \u001b[1;33m\u001b[0m\u001b[0m\n",
      "\u001b[1;32m~\\anaconda3\\lib\\site-packages\\sqlalchemy\\engine\\strategies.py\u001b[0m in \u001b[0;36mcreate\u001b[1;34m(self, name_or_url, **kwargs)\u001b[0m\n\u001b[0;32m     85\u001b[0m                 \u001b[1;32mif\u001b[0m \u001b[0mk\u001b[0m \u001b[1;32min\u001b[0m \u001b[0mkwargs\u001b[0m\u001b[1;33m:\u001b[0m\u001b[1;33m\u001b[0m\u001b[1;33m\u001b[0m\u001b[0m\n\u001b[0;32m     86\u001b[0m                     \u001b[0mdbapi_args\u001b[0m\u001b[1;33m[\u001b[0m\u001b[0mk\u001b[0m\u001b[1;33m]\u001b[0m \u001b[1;33m=\u001b[0m \u001b[0mpop_kwarg\u001b[0m\u001b[1;33m(\u001b[0m\u001b[0mk\u001b[0m\u001b[1;33m)\u001b[0m\u001b[1;33m\u001b[0m\u001b[1;33m\u001b[0m\u001b[0m\n\u001b[1;32m---> 87\u001b[1;33m             \u001b[0mdbapi\u001b[0m \u001b[1;33m=\u001b[0m \u001b[0mdialect_cls\u001b[0m\u001b[1;33m.\u001b[0m\u001b[0mdbapi\u001b[0m\u001b[1;33m(\u001b[0m\u001b[1;33m**\u001b[0m\u001b[0mdbapi_args\u001b[0m\u001b[1;33m)\u001b[0m\u001b[1;33m\u001b[0m\u001b[1;33m\u001b[0m\u001b[0m\n\u001b[0m\u001b[0;32m     88\u001b[0m \u001b[1;33m\u001b[0m\u001b[0m\n\u001b[0;32m     89\u001b[0m         \u001b[0mdialect_args\u001b[0m\u001b[1;33m[\u001b[0m\u001b[1;34m\"dbapi\"\u001b[0m\u001b[1;33m]\u001b[0m \u001b[1;33m=\u001b[0m \u001b[0mdbapi\u001b[0m\u001b[1;33m\u001b[0m\u001b[1;33m\u001b[0m\u001b[0m\n",
      "\u001b[1;32m~\\anaconda3\\lib\\site-packages\\sqlalchemy\\dialects\\postgresql\\psycopg2.py\u001b[0m in \u001b[0;36mdbapi\u001b[1;34m(cls)\u001b[0m\n\u001b[0;32m    735\u001b[0m     \u001b[1;33m@\u001b[0m\u001b[0mclassmethod\u001b[0m\u001b[1;33m\u001b[0m\u001b[1;33m\u001b[0m\u001b[0m\n\u001b[0;32m    736\u001b[0m     \u001b[1;32mdef\u001b[0m \u001b[0mdbapi\u001b[0m\u001b[1;33m(\u001b[0m\u001b[0mcls\u001b[0m\u001b[1;33m)\u001b[0m\u001b[1;33m:\u001b[0m\u001b[1;33m\u001b[0m\u001b[1;33m\u001b[0m\u001b[0m\n\u001b[1;32m--> 737\u001b[1;33m         \u001b[1;32mimport\u001b[0m \u001b[0mpsycopg2\u001b[0m\u001b[1;33m\u001b[0m\u001b[1;33m\u001b[0m\u001b[0m\n\u001b[0m\u001b[0;32m    738\u001b[0m \u001b[1;33m\u001b[0m\u001b[0m\n\u001b[0;32m    739\u001b[0m         \u001b[1;32mreturn\u001b[0m \u001b[0mpsycopg2\u001b[0m\u001b[1;33m\u001b[0m\u001b[1;33m\u001b[0m\u001b[0m\n",
      "\u001b[1;31mModuleNotFoundError\u001b[0m: No module named 'psycopg2'"
     ]
    }
   ],
   "source": [
    "connection=f'{connection_string}@localhost:5432/national_parks'\n",
    "engine = create_engine(f'postgresql://{connection}')"
   ]
  },
  {
   "cell_type": "code",
   "execution_count": 13,
   "metadata": {
    "tags": []
   },
   "outputs": [],
   "source": [
    "# yosemite_data=response2.json()\n",
    "# pprint(yosemite_data)"
   ]
  },
  {
   "cell_type": "code",
   "execution_count": 14,
   "metadata": {},
   "outputs": [],
   "source": [
    "# print(yosemite_data[\"result\"][\"name\"])\n",
    "# print(yosemite_data[\"result\"][\"rating\"])\n",
    "# print(yosemite_data[\"result\"][\"user_ratings_total\"])"
   ]
  },
  {
   "cell_type": "code",
   "execution_count": 3,
   "metadata": {},
   "outputs": [
    {
     "output_type": "error",
     "ename": "NameError",
     "evalue": "name 'engine' is not defined",
     "traceback": [
      "\u001b[1;31m---------------------------------------------------------------------------\u001b[0m",
      "\u001b[1;31mNameError\u001b[0m                                 Traceback (most recent call last)",
      "\u001b[1;32m<ipython-input-3-d72bc75a6b62>\u001b[0m in \u001b[0;36m<module>\u001b[1;34m\u001b[0m\n\u001b[1;32m----> 1\u001b[1;33m \u001b[0mengine\u001b[0m\u001b[1;33m.\u001b[0m\u001b[0mtable_names\u001b[0m\u001b[1;33m(\u001b[0m\u001b[1;33m)\u001b[0m\u001b[1;33m\u001b[0m\u001b[1;33m\u001b[0m\u001b[0m\n\u001b[0m",
      "\u001b[1;31mNameError\u001b[0m: name 'engine' is not defined"
     ]
    }
   ],
   "source": [
    "engine.table_names()"
   ]
  },
  {
   "cell_type": "code",
   "execution_count": 16,
   "metadata": {},
   "outputs": [
    {
     "output_type": "error",
     "ename": "NameError",
     "evalue": "name 'engine' is not defined",
     "traceback": [
      "\u001b[1;31m---------------------------------------------------------------------------\u001b[0m",
      "\u001b[1;31mNameError\u001b[0m                                 Traceback (most recent call last)",
      "\u001b[1;32m<ipython-input-16-bc2eeb7eb48e>\u001b[0m in \u001b[0;36m<module>\u001b[1;34m\u001b[0m\n\u001b[1;32m----> 1\u001b[1;33m \u001b[0mnatl_parks\u001b[0m\u001b[1;33m.\u001b[0m\u001b[0mto_sql\u001b[0m\u001b[1;33m(\u001b[0m\u001b[0mname\u001b[0m\u001b[1;33m=\u001b[0m\u001b[1;34m'parks'\u001b[0m\u001b[1;33m,\u001b[0m \u001b[0mcon\u001b[0m\u001b[1;33m=\u001b[0m\u001b[0mengine\u001b[0m\u001b[1;33m,\u001b[0m \u001b[0mif_exists\u001b[0m\u001b[1;33m=\u001b[0m\u001b[1;34m'append'\u001b[0m\u001b[1;33m,\u001b[0m \u001b[0mindex\u001b[0m\u001b[1;33m=\u001b[0m\u001b[1;32mFalse\u001b[0m\u001b[1;33m)\u001b[0m\u001b[1;33m\u001b[0m\u001b[1;33m\u001b[0m\u001b[0m\n\u001b[0m",
      "\u001b[1;31mNameError\u001b[0m: name 'engine' is not defined"
     ]
    }
   ],
   "source": [
    "natl_parks.to_sql(name='parks', con=engine, if_exists='append', index=False)"
   ]
  },
  {
   "cell_type": "code",
   "execution_count": 17,
   "metadata": {},
   "outputs": [
    {
     "output_type": "error",
     "ename": "NameError",
     "evalue": "name 'engine' is not defined",
     "traceback": [
      "\u001b[1;31m---------------------------------------------------------------------------\u001b[0m",
      "\u001b[1;31mNameError\u001b[0m                                 Traceback (most recent call last)",
      "\u001b[1;32m<ipython-input-17-0d64e01ca2ff>\u001b[0m in \u001b[0;36m<module>\u001b[1;34m\u001b[0m\n\u001b[1;32m----> 1\u001b[1;33m \u001b[0mgoogle_data\u001b[0m\u001b[1;33m.\u001b[0m\u001b[0mto_sql\u001b[0m\u001b[1;33m(\u001b[0m\u001b[0mname\u001b[0m\u001b[1;33m=\u001b[0m\u001b[1;34m'ratings'\u001b[0m\u001b[1;33m,\u001b[0m \u001b[0mcon\u001b[0m\u001b[1;33m=\u001b[0m\u001b[0mengine\u001b[0m\u001b[1;33m,\u001b[0m \u001b[0mif_exists\u001b[0m\u001b[1;33m=\u001b[0m\u001b[1;34m'append'\u001b[0m\u001b[1;33m,\u001b[0m \u001b[0mindex\u001b[0m\u001b[1;33m=\u001b[0m\u001b[1;32mFalse\u001b[0m\u001b[1;33m)\u001b[0m\u001b[1;33m\u001b[0m\u001b[1;33m\u001b[0m\u001b[0m\n\u001b[0m",
      "\u001b[1;31mNameError\u001b[0m: name 'engine' is not defined"
     ]
    }
   ],
   "source": [
    "google_data.to_sql(name='ratings', con=engine, if_exists='append', index=False)"
   ]
  },
  {
   "cell_type": "code",
   "execution_count": null,
   "metadata": {},
   "outputs": [],
   "source": []
  },
  {
   "cell_type": "code",
   "execution_count": null,
   "metadata": {},
   "outputs": [],
   "source": []
  },
  {
   "cell_type": "markdown",
   "metadata": {},
   "source": [
    "### Transform Yelp! Data"
   ]
  },
  {
   "cell_type": "code",
   "execution_count": null,
   "metadata": {},
   "outputs": [],
   "source": []
  },
  {
   "cell_type": "code",
   "execution_count": null,
   "metadata": {},
   "outputs": [],
   "source": []
  },
  {
   "cell_type": "markdown",
   "metadata": {},
   "source": [
    "### Load DataFrames into Database"
   ]
  },
  {
   "cell_type": "code",
   "execution_count": null,
   "metadata": {},
   "outputs": [],
   "source": []
  }
 ],
 "metadata": {
  "kernelspec": {
   "display_name": "Python 3.7.6 64-bit ('base': conda)",
   "language": "python",
   "name": "python_defaultSpec_1597365335895"
  },
  "language_info": {
   "codemirror_mode": {
    "name": "ipython",
    "version": 3
   },
   "file_extension": ".py",
   "mimetype": "text/x-python",
   "name": "python",
   "nbconvert_exporter": "python",
   "pygments_lexer": "ipython3",
   "version": "3.7.6-final"
  }
 },
 "nbformat": 4,
 "nbformat_minor": 2
}