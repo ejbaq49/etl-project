{
 "cells": [
  {
   "cell_type": "markdown",
   "metadata": {},
   "source": [
    "## US National Parks & Yelp! Reviews"
   ]
  },
  {
   "cell_type": "code",
   "execution_count": 1,
   "metadata": {},
   "outputs": [],
   "source": [
    "# dependencies\n",
    "import pandas as pd\n",
    "from sqlalchemy import create_engine\n",
    "import requests\n",
    "import json\n",
    "from pprint import pprint\n",
    "\n",
    "# API and DB Credentials\n",
    "# from keys import db_cred\n",
    "from keys import gkey\n",
    "\n"
   ]
  },
  {
   "cell_type": "markdown",
   "metadata": {},
   "source": [
    "### Extract Park Data from JSON\n"
   ]
  },
  {
   "cell_type": "code",
   "execution_count": 2,
   "metadata": {},
   "outputs": [
    {
     "output_type": "execute_result",
     "data": {
      "text/plain": "                                              area  \\\n0     {'acres': '49,057.36', 'square_km': '198.5'}   \n1       {'acres': '8,256.67', 'square_km': '33.4'}   \n2     {'acres': '76,678.98', 'square_km': '310.3'}   \n3    {'acres': '242,755.94', 'square_km': '982.4'}   \n4  {'acres': '801,163.21', 'square_km': '3,242.2'}   \n\n                                  coordinates date_established_readable  \\\n0    {'latitude': 44.35, 'longitude': -68.21}         February 26, 1919   \n1  {'latitude': -14.25, 'longitude': -170.68}          October 31, 1988   \n2   {'latitude': 38.68, 'longitude': -109.57}         November 12, 1971   \n3    {'latitude': 43.75, 'longitude': -102.5}         November 10, 1978   \n4   {'latitude': 29.25, 'longitude': -103.25}             June 12, 1944   \n\n   date_established_unix                                        description  \\\n0            -1604599200  Covering most of Mount Desert Island and other...   \n1              594280800  The southernmost National Park is on three Sam...   \n2               58773600  This site features more than 2,000 natural san...   \n3              279525600  The Badlands are a collection of buttes, pinna...   \n4             -806439600  Named for the prominent bend in the Rio Grande...   \n\n                                               image  \\\n0  {'url': 'acadia.jpg', 'attribution': 'PixelBay...   \n1  {'url': 'american-samoa.jpg', 'attribution': '...   \n2  {'url': 'arches.jpg', 'attribution': 'PixelBay...   \n3  {'url': 'badlands.jpg', 'attribution': 'PixelB...   \n4  {'url': 'big-bend.jpg', 'attribution': 'PixelB...   \n\n                             nps_link  \\\n0  https://www.nps.gov/acad/index.htm   \n1  https://www.nps.gov/npsa/index.htm   \n2  https://www.nps.gov/arch/index.htm   \n3  https://www.nps.gov/badl/index.htm   \n4  https://www.nps.gov/bibe/index.htm   \n\n                                              states           title  \\\n0          [{'id': 'state_maine', 'title': 'Maine'}]          Acadia   \n1  [{'id': 'state_american-samoa', 'title': 'Amer...  American Samoa   \n2            [{'id': 'state_utah', 'title': 'Utah'}]          Arches   \n3  [{'id': 'state_south-dakota', 'title': 'South ...        Badlands   \n4          [{'id': 'state_texas', 'title': 'Texas'}]        Big Bend   \n\n                    id   visitors  world_heritage_site  \n0          park_acadia  3,303,393                False  \n1  park_american-samoa     28,892                False  \n2          park_arches  1,585,718                False  \n3        park_badlands    996,263                False  \n4        park_big-bend    388,290                False  ",
      "text/html": "<div>\n<style scoped>\n    .dataframe tbody tr th:only-of-type {\n        vertical-align: middle;\n    }\n\n    .dataframe tbody tr th {\n        vertical-align: top;\n    }\n\n    .dataframe thead th {\n        text-align: right;\n    }\n</style>\n<table border=\"1\" class=\"dataframe\">\n  <thead>\n    <tr style=\"text-align: right;\">\n      <th></th>\n      <th>area</th>\n      <th>coordinates</th>\n      <th>date_established_readable</th>\n      <th>date_established_unix</th>\n      <th>description</th>\n      <th>image</th>\n      <th>nps_link</th>\n      <th>states</th>\n      <th>title</th>\n      <th>id</th>\n      <th>visitors</th>\n      <th>world_heritage_site</th>\n    </tr>\n  </thead>\n  <tbody>\n    <tr>\n      <th>0</th>\n      <td>{'acres': '49,057.36', 'square_km': '198.5'}</td>\n      <td>{'latitude': 44.35, 'longitude': -68.21}</td>\n      <td>February 26, 1919</td>\n      <td>-1604599200</td>\n      <td>Covering most of Mount Desert Island and other...</td>\n      <td>{'url': 'acadia.jpg', 'attribution': 'PixelBay...</td>\n      <td>https://www.nps.gov/acad/index.htm</td>\n      <td>[{'id': 'state_maine', 'title': 'Maine'}]</td>\n      <td>Acadia</td>\n      <td>park_acadia</td>\n      <td>3,303,393</td>\n      <td>False</td>\n    </tr>\n    <tr>\n      <th>1</th>\n      <td>{'acres': '8,256.67', 'square_km': '33.4'}</td>\n      <td>{'latitude': -14.25, 'longitude': -170.68}</td>\n      <td>October 31, 1988</td>\n      <td>594280800</td>\n      <td>The southernmost National Park is on three Sam...</td>\n      <td>{'url': 'american-samoa.jpg', 'attribution': '...</td>\n      <td>https://www.nps.gov/npsa/index.htm</td>\n      <td>[{'id': 'state_american-samoa', 'title': 'Amer...</td>\n      <td>American Samoa</td>\n      <td>park_american-samoa</td>\n      <td>28,892</td>\n      <td>False</td>\n    </tr>\n    <tr>\n      <th>2</th>\n      <td>{'acres': '76,678.98', 'square_km': '310.3'}</td>\n      <td>{'latitude': 38.68, 'longitude': -109.57}</td>\n      <td>November 12, 1971</td>\n      <td>58773600</td>\n      <td>This site features more than 2,000 natural san...</td>\n      <td>{'url': 'arches.jpg', 'attribution': 'PixelBay...</td>\n      <td>https://www.nps.gov/arch/index.htm</td>\n      <td>[{'id': 'state_utah', 'title': 'Utah'}]</td>\n      <td>Arches</td>\n      <td>park_arches</td>\n      <td>1,585,718</td>\n      <td>False</td>\n    </tr>\n    <tr>\n      <th>3</th>\n      <td>{'acres': '242,755.94', 'square_km': '982.4'}</td>\n      <td>{'latitude': 43.75, 'longitude': -102.5}</td>\n      <td>November 10, 1978</td>\n      <td>279525600</td>\n      <td>The Badlands are a collection of buttes, pinna...</td>\n      <td>{'url': 'badlands.jpg', 'attribution': 'PixelB...</td>\n      <td>https://www.nps.gov/badl/index.htm</td>\n      <td>[{'id': 'state_south-dakota', 'title': 'South ...</td>\n      <td>Badlands</td>\n      <td>park_badlands</td>\n      <td>996,263</td>\n      <td>False</td>\n    </tr>\n    <tr>\n      <th>4</th>\n      <td>{'acres': '801,163.21', 'square_km': '3,242.2'}</td>\n      <td>{'latitude': 29.25, 'longitude': -103.25}</td>\n      <td>June 12, 1944</td>\n      <td>-806439600</td>\n      <td>Named for the prominent bend in the Rio Grande...</td>\n      <td>{'url': 'big-bend.jpg', 'attribution': 'PixelB...</td>\n      <td>https://www.nps.gov/bibe/index.htm</td>\n      <td>[{'id': 'state_texas', 'title': 'Texas'}]</td>\n      <td>Big Bend</td>\n      <td>park_big-bend</td>\n      <td>388,290</td>\n      <td>False</td>\n    </tr>\n  </tbody>\n</table>\n</div>"
     },
     "metadata": {},
     "execution_count": 2
    }
   ],
   "source": [
    "json_file = \"resources/data.json\"\n",
    "parks_df = pd.read_json(json_file)\n",
    "parks_df.head()"
   ]
  },
  {
   "cell_type": "markdown",
   "metadata": {},
   "source": [
    "### Transform Park Data"
   ]
  },
  {
   "cell_type": "code",
   "execution_count": 3,
   "metadata": {},
   "outputs": [
    {
     "output_type": "execute_result",
     "data": {
      "text/plain": "                                              area  \\\n0     {'acres': '49,057.36', 'square_km': '198.5'}   \n1       {'acres': '8,256.67', 'square_km': '33.4'}   \n2     {'acres': '76,678.98', 'square_km': '310.3'}   \n3    {'acres': '242,755.94', 'square_km': '982.4'}   \n4  {'acres': '801,163.21', 'square_km': '3,242.2'}   \n\n                                  coordinates date_established_readable  \\\n0    {'latitude': 44.35, 'longitude': -68.21}         February 26, 1919   \n1  {'latitude': -14.25, 'longitude': -170.68}          October 31, 1988   \n2   {'latitude': 38.68, 'longitude': -109.57}         November 12, 1971   \n3    {'latitude': 43.75, 'longitude': -102.5}         November 10, 1978   \n4   {'latitude': 29.25, 'longitude': -103.25}             June 12, 1944   \n\n                                         description           title  \\\n0  Covering most of Mount Desert Island and other...          Acadia   \n1  The southernmost National Park is on three Sam...  American Samoa   \n2  This site features more than 2,000 natural san...          Arches   \n3  The Badlands are a collection of buttes, pinna...        Badlands   \n4  Named for the prominent bend in the Rio Grande...        Big Bend   \n\n                    id   visitors  world_heritage_site  \n0          park_acadia  3,303,393                False  \n1  park_american-samoa     28,892                False  \n2          park_arches  1,585,718                False  \n3        park_badlands    996,263                False  \n4        park_big-bend    388,290                False  ",
      "text/html": "<div>\n<style scoped>\n    .dataframe tbody tr th:only-of-type {\n        vertical-align: middle;\n    }\n\n    .dataframe tbody tr th {\n        vertical-align: top;\n    }\n\n    .dataframe thead th {\n        text-align: right;\n    }\n</style>\n<table border=\"1\" class=\"dataframe\">\n  <thead>\n    <tr style=\"text-align: right;\">\n      <th></th>\n      <th>area</th>\n      <th>coordinates</th>\n      <th>date_established_readable</th>\n      <th>description</th>\n      <th>title</th>\n      <th>id</th>\n      <th>visitors</th>\n      <th>world_heritage_site</th>\n    </tr>\n  </thead>\n  <tbody>\n    <tr>\n      <th>0</th>\n      <td>{'acres': '49,057.36', 'square_km': '198.5'}</td>\n      <td>{'latitude': 44.35, 'longitude': -68.21}</td>\n      <td>February 26, 1919</td>\n      <td>Covering most of Mount Desert Island and other...</td>\n      <td>Acadia</td>\n      <td>park_acadia</td>\n      <td>3,303,393</td>\n      <td>False</td>\n    </tr>\n    <tr>\n      <th>1</th>\n      <td>{'acres': '8,256.67', 'square_km': '33.4'}</td>\n      <td>{'latitude': -14.25, 'longitude': -170.68}</td>\n      <td>October 31, 1988</td>\n      <td>The southernmost National Park is on three Sam...</td>\n      <td>American Samoa</td>\n      <td>park_american-samoa</td>\n      <td>28,892</td>\n      <td>False</td>\n    </tr>\n    <tr>\n      <th>2</th>\n      <td>{'acres': '76,678.98', 'square_km': '310.3'}</td>\n      <td>{'latitude': 38.68, 'longitude': -109.57}</td>\n      <td>November 12, 1971</td>\n      <td>This site features more than 2,000 natural san...</td>\n      <td>Arches</td>\n      <td>park_arches</td>\n      <td>1,585,718</td>\n      <td>False</td>\n    </tr>\n    <tr>\n      <th>3</th>\n      <td>{'acres': '242,755.94', 'square_km': '982.4'}</td>\n      <td>{'latitude': 43.75, 'longitude': -102.5}</td>\n      <td>November 10, 1978</td>\n      <td>The Badlands are a collection of buttes, pinna...</td>\n      <td>Badlands</td>\n      <td>park_badlands</td>\n      <td>996,263</td>\n      <td>False</td>\n    </tr>\n    <tr>\n      <th>4</th>\n      <td>{'acres': '801,163.21', 'square_km': '3,242.2'}</td>\n      <td>{'latitude': 29.25, 'longitude': -103.25}</td>\n      <td>June 12, 1944</td>\n      <td>Named for the prominent bend in the Rio Grande...</td>\n      <td>Big Bend</td>\n      <td>park_big-bend</td>\n      <td>388,290</td>\n      <td>False</td>\n    </tr>\n  </tbody>\n</table>\n</div>"
     },
     "metadata": {},
     "execution_count": 3
    }
   ],
   "source": [
    "natl_parks=parks_df.drop(columns=['date_established_unix','image', 'nps_link','states'])\n",
    "natl_parks.set_index('title',drop=True)\n",
    "natl_parks.head()"
   ]
  },
  {
   "cell_type": "code",
   "execution_count": 13,
   "metadata": {
    "tags": []
   },
   "outputs": [],
   "source": [
    "# park_list = []\n",
    "\n",
    "# for target_search in natl_parks['title']:\n",
    "#     park_list.append(target_search)\n",
    "\n",
    "# park_list"
   ]
  },
  {
   "cell_type": "markdown",
   "metadata": {},
   "source": [
    "### Extract google places Reviews\n"
   ]
  },
  {
   "cell_type": "code",
   "execution_count": 5,
   "metadata": {
    "tags": []
   },
   "outputs": [],
   "source": [
    "# use Park DataFrame for names\n",
    "# target_search = \"acadia national park\"\n",
    "\n",
    "\n",
    "parks_dict = {}\n",
    "\n",
    "for target_search in natl_parks['title']:\n",
    "    params = {    \n",
    "        \"input\": target_search + \" national park\",\n",
    "        \"inputtype\": \"textquery\",\n",
    "        \"key\": gkey\n",
    "    }\n",
    "\n",
    "    base_url = \"https://maps.googleapis.com/maps/api/place/findplacefromtext/json\"\n",
    "\n",
    "    response = requests.get(base_url, params=params)\n",
    "\n",
    "    google_parks_data = response.json()\n",
    "    park_id = google_parks_data['candidates'][0]['place_id']\n",
    "    parks_dict[target_search] = park_id\n"
   ]
  },
  {
   "cell_type": "code",
   "execution_count": 6,
   "metadata": {},
   "outputs": [],
   "source": [
    "# parks_dict"
   ]
  },
  {
   "cell_type": "code",
   "execution_count": 7,
   "metadata": {
    "tags": []
   },
   "outputs": [],
   "source": [
    "# google_parks_data = response.json()\n",
    "# p_id = google_parks_data['candidates'][0]['place_id']\n",
    "# print(p_id)"
   ]
  },
  {
   "cell_type": "code",
   "execution_count": 8,
   "metadata": {
    "tags": []
   },
   "outputs": [],
   "source": [
    "# possible .iterrows\n",
    "# for key in parks_dict:\n",
    "#     print(key, parks_dict[key])"
   ]
  },
  {
   "cell_type": "code",
   "execution_count": 9,
   "metadata": {},
   "outputs": [],
   "source": [
    "\n",
    "park_title = []\n",
    "park_name = []\n",
    "park_rating = []\n",
    "park_total_ratings = []\n",
    "\n",
    "for key in parks_dict:\n",
    "\n",
    "    if key != 'North Cascades':\n",
    "\n",
    "        place_id = parks_dict[key]\n",
    "\n",
    "        params2 = {    \n",
    "            \"place_id\": place_id,\n",
    "            \"key\": gkey\n",
    "        }\n",
    "\n",
    "        base_detail_url= \"https://maps.googleapis.com/maps/api/place/details/json\"\n",
    "\n",
    "        response2 = requests.get(base_detail_url, params=params2)\n",
    "\n",
    "        park_details = response2.json()\n",
    "\n",
    "        park_title.append(key)\n",
    "        park_name.append(park_details[\"result\"][\"name\"])\n",
    "        park_rating.append(park_details[\"result\"][\"rating\"])\n",
    "        park_total_ratings.append(park_details[\"result\"][\"user_ratings_total\"])\n",
    "\n"
   ]
  },
  {
   "cell_type": "code",
   "execution_count": 10,
   "metadata": {},
   "outputs": [
    {
     "output_type": "execute_result",
     "data": {
      "text/plain": "            title                             name  rating  total_ratings\n0          Acadia             Acadia National Park     4.9          12043\n1  American Samoa  National Park of American Samoa     4.6             65\n2          Arches             Arches National Park     4.8          18983\n3        Badlands           Badlands National Park     4.9          10155\n4        Big Bend           Big Bend National Park     4.8           3305",
      "text/html": "<div>\n<style scoped>\n    .dataframe tbody tr th:only-of-type {\n        vertical-align: middle;\n    }\n\n    .dataframe tbody tr th {\n        vertical-align: top;\n    }\n\n    .dataframe thead th {\n        text-align: right;\n    }\n</style>\n<table border=\"1\" class=\"dataframe\">\n  <thead>\n    <tr style=\"text-align: right;\">\n      <th></th>\n      <th>title</th>\n      <th>name</th>\n      <th>rating</th>\n      <th>total_ratings</th>\n    </tr>\n  </thead>\n  <tbody>\n    <tr>\n      <th>0</th>\n      <td>Acadia</td>\n      <td>Acadia National Park</td>\n      <td>4.9</td>\n      <td>12043</td>\n    </tr>\n    <tr>\n      <th>1</th>\n      <td>American Samoa</td>\n      <td>National Park of American Samoa</td>\n      <td>4.6</td>\n      <td>65</td>\n    </tr>\n    <tr>\n      <th>2</th>\n      <td>Arches</td>\n      <td>Arches National Park</td>\n      <td>4.8</td>\n      <td>18983</td>\n    </tr>\n    <tr>\n      <th>3</th>\n      <td>Badlands</td>\n      <td>Badlands National Park</td>\n      <td>4.9</td>\n      <td>10155</td>\n    </tr>\n    <tr>\n      <th>4</th>\n      <td>Big Bend</td>\n      <td>Big Bend National Park</td>\n      <td>4.8</td>\n      <td>3305</td>\n    </tr>\n  </tbody>\n</table>\n</div>"
     },
     "metadata": {},
     "execution_count": 10
    }
   ],
   "source": [
    "google_data = pd.DataFrame(zip(park_title, park_name, park_rating, park_total_ratings), columns=['title', 'name', 'rating', 'total_ratings'])\n",
    "\n",
    "google_data.head()"
   ]
  },
  {
   "cell_type": "markdown",
   "metadata": {},
   "source": [
    "### Create Database Connection"
   ]
  },
  {
   "cell_type": "code",
   "execution_count": null,
   "metadata": {},
   "outputs": [],
   "source": []
  },
  {
   "cell_type": "code",
   "execution_count": 11,
   "metadata": {
    "tags": []
   },
   "outputs": [],
   "source": [
    "# yosemite_data=response2.json()\n",
    "# pprint(yosemite_data)"
   ]
  },
  {
   "cell_type": "code",
   "execution_count": 12,
   "metadata": {},
   "outputs": [],
   "source": [
    "# print(yosemite_data[\"result\"][\"name\"])\n",
    "# print(yosemite_data[\"result\"][\"rating\"])\n",
    "# print(yosemite_data[\"result\"][\"user_ratings_total\"])"
   ]
  },
  {
   "cell_type": "code",
   "execution_count": null,
   "metadata": {},
   "outputs": [],
   "source": []
  },
  {
   "cell_type": "code",
   "execution_count": null,
   "metadata": {},
   "outputs": [],
   "source": []
  },
  {
   "cell_type": "code",
   "execution_count": null,
   "metadata": {},
   "outputs": [],
   "source": []
  },
  {
   "cell_type": "code",
   "execution_count": null,
   "metadata": {},
   "outputs": [],
   "source": []
  },
  {
   "cell_type": "code",
   "execution_count": null,
   "metadata": {},
   "outputs": [],
   "source": []
  },
  {
   "cell_type": "markdown",
   "metadata": {},
   "source": [
    "### Transform Yelp! Data"
   ]
  },
  {
   "cell_type": "code",
   "execution_count": null,
   "metadata": {},
   "outputs": [],
   "source": []
  },
  {
   "cell_type": "code",
   "execution_count": null,
   "metadata": {},
   "outputs": [],
   "source": []
  },
  {
   "cell_type": "markdown",
   "metadata": {},
   "source": [
    "### Load DataFrames into Database"
   ]
  },
  {
   "cell_type": "code",
   "execution_count": null,
   "metadata": {},
   "outputs": [],
   "source": []
  }
 ],
 "metadata": {
  "kernelspec": {
   "display_name": "Python 3.6.10 64-bit ('PythonData': conda)",
   "language": "python",
   "name": "python361064bitpythondataconda2a9a3c884c40400db426ae2e3e580487"
  },
  "language_info": {
   "codemirror_mode": {
    "name": "ipython",
    "version": 3
   },
   "file_extension": ".py",
   "mimetype": "text/x-python",
   "name": "python",
   "nbconvert_exporter": "python",
   "pygments_lexer": "ipython3",
   "version": "3.6.10-final"
  }
 },
 "nbformat": 4,
 "nbformat_minor": 2
}