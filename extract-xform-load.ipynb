{
 "cells": [
  {
   "cell_type": "markdown",
   "metadata": {},
   "source": [
    "## US National Parks & Yelp! Reviews"
   ]
  },
  {
   "cell_type": "code",
   "execution_count": 1,
   "metadata": {},
   "outputs": [],
   "source": [
    "# dependencies\n",
    "import pandas as pd\n",
    "from sqlalchemy import create_engine\n",
    "import requests\n",
    "import json\n",
    "from pprint import pprint\n",
    "import time \n",
    "\n",
    "# API and DB Credentials\n",
    "# from keys import db_cred\n",
    "from keys import gkey\n",
    "from keys import connection_string\n",
    "\n"
   ]
  },
  {
   "cell_type": "markdown",
   "metadata": {},
   "source": [
    "### Extract Park Data from JSON\n"
   ]
  },
  {
   "cell_type": "code",
   "execution_count": 2,
   "metadata": {},
   "outputs": [
    {
     "data": {
      "text/html": [
       "<div>\n",
       "<style scoped>\n",
       "    .dataframe tbody tr th:only-of-type {\n",
       "        vertical-align: middle;\n",
       "    }\n",
       "\n",
       "    .dataframe tbody tr th {\n",
       "        vertical-align: top;\n",
       "    }\n",
       "\n",
       "    .dataframe thead th {\n",
       "        text-align: right;\n",
       "    }\n",
       "</style>\n",
       "<table border=\"1\" class=\"dataframe\">\n",
       "  <thead>\n",
       "    <tr style=\"text-align: right;\">\n",
       "      <th></th>\n",
       "      <th>area</th>\n",
       "      <th>coordinates</th>\n",
       "      <th>date_established_readable</th>\n",
       "      <th>date_established_unix</th>\n",
       "      <th>description</th>\n",
       "      <th>image</th>\n",
       "      <th>nps_link</th>\n",
       "      <th>states</th>\n",
       "      <th>title</th>\n",
       "      <th>id</th>\n",
       "      <th>visitors</th>\n",
       "      <th>world_heritage_site</th>\n",
       "    </tr>\n",
       "  </thead>\n",
       "  <tbody>\n",
       "    <tr>\n",
       "      <th>0</th>\n",
       "      <td>{'acres': '49,057.36', 'square_km': '198.5'}</td>\n",
       "      <td>{'latitude': 44.35, 'longitude': -68.21}</td>\n",
       "      <td>February 26, 1919</td>\n",
       "      <td>-1604599200</td>\n",
       "      <td>Covering most of Mount Desert Island and other...</td>\n",
       "      <td>{'url': 'acadia.jpg', 'attribution': 'PixelBay...</td>\n",
       "      <td>https://www.nps.gov/acad/index.htm</td>\n",
       "      <td>[{'id': 'state_maine', 'title': 'Maine'}]</td>\n",
       "      <td>Acadia</td>\n",
       "      <td>park_acadia</td>\n",
       "      <td>3,303,393</td>\n",
       "      <td>False</td>\n",
       "    </tr>\n",
       "    <tr>\n",
       "      <th>1</th>\n",
       "      <td>{'acres': '8,256.67', 'square_km': '33.4'}</td>\n",
       "      <td>{'latitude': -14.25, 'longitude': -170.68}</td>\n",
       "      <td>October 31, 1988</td>\n",
       "      <td>594280800</td>\n",
       "      <td>The southernmost National Park is on three Sam...</td>\n",
       "      <td>{'url': 'american-samoa.jpg', 'attribution': '...</td>\n",
       "      <td>https://www.nps.gov/npsa/index.htm</td>\n",
       "      <td>[{'id': 'state_american-samoa', 'title': 'Amer...</td>\n",
       "      <td>American Samoa</td>\n",
       "      <td>park_american-samoa</td>\n",
       "      <td>28,892</td>\n",
       "      <td>False</td>\n",
       "    </tr>\n",
       "    <tr>\n",
       "      <th>2</th>\n",
       "      <td>{'acres': '76,678.98', 'square_km': '310.3'}</td>\n",
       "      <td>{'latitude': 38.68, 'longitude': -109.57}</td>\n",
       "      <td>November 12, 1971</td>\n",
       "      <td>58773600</td>\n",
       "      <td>This site features more than 2,000 natural san...</td>\n",
       "      <td>{'url': 'arches.jpg', 'attribution': 'PixelBay...</td>\n",
       "      <td>https://www.nps.gov/arch/index.htm</td>\n",
       "      <td>[{'id': 'state_utah', 'title': 'Utah'}]</td>\n",
       "      <td>Arches</td>\n",
       "      <td>park_arches</td>\n",
       "      <td>1,585,718</td>\n",
       "      <td>False</td>\n",
       "    </tr>\n",
       "    <tr>\n",
       "      <th>3</th>\n",
       "      <td>{'acres': '242,755.94', 'square_km': '982.4'}</td>\n",
       "      <td>{'latitude': 43.75, 'longitude': -102.5}</td>\n",
       "      <td>November 10, 1978</td>\n",
       "      <td>279525600</td>\n",
       "      <td>The Badlands are a collection of buttes, pinna...</td>\n",
       "      <td>{'url': 'badlands.jpg', 'attribution': 'PixelB...</td>\n",
       "      <td>https://www.nps.gov/badl/index.htm</td>\n",
       "      <td>[{'id': 'state_south-dakota', 'title': 'South ...</td>\n",
       "      <td>Badlands</td>\n",
       "      <td>park_badlands</td>\n",
       "      <td>996,263</td>\n",
       "      <td>False</td>\n",
       "    </tr>\n",
       "    <tr>\n",
       "      <th>4</th>\n",
       "      <td>{'acres': '801,163.21', 'square_km': '3,242.2'}</td>\n",
       "      <td>{'latitude': 29.25, 'longitude': -103.25}</td>\n",
       "      <td>June 12, 1944</td>\n",
       "      <td>-806439600</td>\n",
       "      <td>Named for the prominent bend in the Rio Grande...</td>\n",
       "      <td>{'url': 'big-bend.jpg', 'attribution': 'PixelB...</td>\n",
       "      <td>https://www.nps.gov/bibe/index.htm</td>\n",
       "      <td>[{'id': 'state_texas', 'title': 'Texas'}]</td>\n",
       "      <td>Big Bend</td>\n",
       "      <td>park_big-bend</td>\n",
       "      <td>388,290</td>\n",
       "      <td>False</td>\n",
       "    </tr>\n",
       "  </tbody>\n",
       "</table>\n",
       "</div>"
      ],
      "text/plain": [
       "                                              area  \\\n",
       "0     {'acres': '49,057.36', 'square_km': '198.5'}   \n",
       "1       {'acres': '8,256.67', 'square_km': '33.4'}   \n",
       "2     {'acres': '76,678.98', 'square_km': '310.3'}   \n",
       "3    {'acres': '242,755.94', 'square_km': '982.4'}   \n",
       "4  {'acres': '801,163.21', 'square_km': '3,242.2'}   \n",
       "\n",
       "                                  coordinates date_established_readable  \\\n",
       "0    {'latitude': 44.35, 'longitude': -68.21}         February 26, 1919   \n",
       "1  {'latitude': -14.25, 'longitude': -170.68}          October 31, 1988   \n",
       "2   {'latitude': 38.68, 'longitude': -109.57}         November 12, 1971   \n",
       "3    {'latitude': 43.75, 'longitude': -102.5}         November 10, 1978   \n",
       "4   {'latitude': 29.25, 'longitude': -103.25}             June 12, 1944   \n",
       "\n",
       "   date_established_unix                                        description  \\\n",
       "0            -1604599200  Covering most of Mount Desert Island and other...   \n",
       "1              594280800  The southernmost National Park is on three Sam...   \n",
       "2               58773600  This site features more than 2,000 natural san...   \n",
       "3              279525600  The Badlands are a collection of buttes, pinna...   \n",
       "4             -806439600  Named for the prominent bend in the Rio Grande...   \n",
       "\n",
       "                                               image  \\\n",
       "0  {'url': 'acadia.jpg', 'attribution': 'PixelBay...   \n",
       "1  {'url': 'american-samoa.jpg', 'attribution': '...   \n",
       "2  {'url': 'arches.jpg', 'attribution': 'PixelBay...   \n",
       "3  {'url': 'badlands.jpg', 'attribution': 'PixelB...   \n",
       "4  {'url': 'big-bend.jpg', 'attribution': 'PixelB...   \n",
       "\n",
       "                             nps_link  \\\n",
       "0  https://www.nps.gov/acad/index.htm   \n",
       "1  https://www.nps.gov/npsa/index.htm   \n",
       "2  https://www.nps.gov/arch/index.htm   \n",
       "3  https://www.nps.gov/badl/index.htm   \n",
       "4  https://www.nps.gov/bibe/index.htm   \n",
       "\n",
       "                                              states           title  \\\n",
       "0          [{'id': 'state_maine', 'title': 'Maine'}]          Acadia   \n",
       "1  [{'id': 'state_american-samoa', 'title': 'Amer...  American Samoa   \n",
       "2            [{'id': 'state_utah', 'title': 'Utah'}]          Arches   \n",
       "3  [{'id': 'state_south-dakota', 'title': 'South ...        Badlands   \n",
       "4          [{'id': 'state_texas', 'title': 'Texas'}]        Big Bend   \n",
       "\n",
       "                    id   visitors  world_heritage_site  \n",
       "0          park_acadia  3,303,393                False  \n",
       "1  park_american-samoa     28,892                False  \n",
       "2          park_arches  1,585,718                False  \n",
       "3        park_badlands    996,263                False  \n",
       "4        park_big-bend    388,290                False  "
      ]
     },
     "execution_count": 2,
     "metadata": {},
     "output_type": "execute_result"
    }
   ],
   "source": [
    "json_file = \"resources/data.json\"\n",
    "parks_df = pd.read_json(json_file)\n",
    "parks_df.head()"
   ]
  },
  {
   "cell_type": "markdown",
   "metadata": {},
   "source": [
    "### Transform Park Data"
   ]
  },
  {
   "cell_type": "code",
   "execution_count": 3,
   "metadata": {},
   "outputs": [
    {
     "data": {
      "text/html": [
       "<div>\n",
       "<style scoped>\n",
       "    .dataframe tbody tr th:only-of-type {\n",
       "        vertical-align: middle;\n",
       "    }\n",
       "\n",
       "    .dataframe tbody tr th {\n",
       "        vertical-align: top;\n",
       "    }\n",
       "\n",
       "    .dataframe thead th {\n",
       "        text-align: right;\n",
       "    }\n",
       "</style>\n",
       "<table border=\"1\" class=\"dataframe\">\n",
       "  <thead>\n",
       "    <tr style=\"text-align: right;\">\n",
       "      <th></th>\n",
       "      <th>date_established_readable</th>\n",
       "      <th>description</th>\n",
       "      <th>title</th>\n",
       "      <th>id</th>\n",
       "      <th>visitors</th>\n",
       "      <th>world_heritage_site</th>\n",
       "    </tr>\n",
       "  </thead>\n",
       "  <tbody>\n",
       "    <tr>\n",
       "      <th>0</th>\n",
       "      <td>February 26, 1919</td>\n",
       "      <td>Covering most of Mount Desert Island and other...</td>\n",
       "      <td>Acadia</td>\n",
       "      <td>park_acadia</td>\n",
       "      <td>3,303,393</td>\n",
       "      <td>False</td>\n",
       "    </tr>\n",
       "    <tr>\n",
       "      <th>1</th>\n",
       "      <td>October 31, 1988</td>\n",
       "      <td>The southernmost National Park is on three Sam...</td>\n",
       "      <td>American Samoa</td>\n",
       "      <td>park_american-samoa</td>\n",
       "      <td>28,892</td>\n",
       "      <td>False</td>\n",
       "    </tr>\n",
       "    <tr>\n",
       "      <th>2</th>\n",
       "      <td>November 12, 1971</td>\n",
       "      <td>This site features more than 2,000 natural san...</td>\n",
       "      <td>Arches</td>\n",
       "      <td>park_arches</td>\n",
       "      <td>1,585,718</td>\n",
       "      <td>False</td>\n",
       "    </tr>\n",
       "    <tr>\n",
       "      <th>3</th>\n",
       "      <td>November 10, 1978</td>\n",
       "      <td>The Badlands are a collection of buttes, pinna...</td>\n",
       "      <td>Badlands</td>\n",
       "      <td>park_badlands</td>\n",
       "      <td>996,263</td>\n",
       "      <td>False</td>\n",
       "    </tr>\n",
       "    <tr>\n",
       "      <th>4</th>\n",
       "      <td>June 12, 1944</td>\n",
       "      <td>Named for the prominent bend in the Rio Grande...</td>\n",
       "      <td>Big Bend</td>\n",
       "      <td>park_big-bend</td>\n",
       "      <td>388,290</td>\n",
       "      <td>False</td>\n",
       "    </tr>\n",
       "  </tbody>\n",
       "</table>\n",
       "</div>"
      ],
      "text/plain": [
       "  date_established_readable  \\\n",
       "0         February 26, 1919   \n",
       "1          October 31, 1988   \n",
       "2         November 12, 1971   \n",
       "3         November 10, 1978   \n",
       "4             June 12, 1944   \n",
       "\n",
       "                                         description           title  \\\n",
       "0  Covering most of Mount Desert Island and other...          Acadia   \n",
       "1  The southernmost National Park is on three Sam...  American Samoa   \n",
       "2  This site features more than 2,000 natural san...          Arches   \n",
       "3  The Badlands are a collection of buttes, pinna...        Badlands   \n",
       "4  Named for the prominent bend in the Rio Grande...        Big Bend   \n",
       "\n",
       "                    id   visitors  world_heritage_site  \n",
       "0          park_acadia  3,303,393                False  \n",
       "1  park_american-samoa     28,892                False  \n",
       "2          park_arches  1,585,718                False  \n",
       "3        park_badlands    996,263                False  \n",
       "4        park_big-bend    388,290                False  "
      ]
     },
     "execution_count": 3,
     "metadata": {},
     "output_type": "execute_result"
    }
   ],
   "source": [
    "natl_parks=parks_df.drop(columns=['date_established_unix','image', 'nps_link','states','area','coordinates'])\n",
    "natl_parks.set_index('title',drop=True)\n",
    "natl_parks.head()"
   ]
  },
  {
   "cell_type": "code",
   "execution_count": 4,
   "metadata": {
    "tags": []
   },
   "outputs": [],
   "source": [
    "# park_list = []\n",
    "\n",
    "# for target_search in natl_parks['title']:\n",
    "#     park_list.append(target_search)\n",
    "\n",
    "# park_list"
   ]
  },
  {
   "cell_type": "markdown",
   "metadata": {},
   "source": [
    "### Extract google places Reviews\n"
   ]
  },
  {
   "cell_type": "code",
   "execution_count": 5,
   "metadata": {
    "tags": []
   },
   "outputs": [],
   "source": [
    "# use Park DataFrame for names\n",
    "# target_search = \"acadia national park\"\n",
    "\n",
    "\n",
    "parks_dict = {}\n",
    "\n",
    "for target_search in natl_parks['title']:\n",
    "    params = {    \n",
    "        \"input\": target_search + \" national park\",\n",
    "        \"inputtype\": \"textquery\",\n",
    "        \"key\": gkey\n",
    "    }\n",
    "\n",
    "    base_url = \"https://maps.googleapis.com/maps/api/place/findplacefromtext/json\"\n",
    "\n",
    "    response = requests.get(base_url, params=params)\n",
    "\n",
    "    google_parks_data = response.json()\n",
    "    park_id = google_parks_data['candidates'][0]['place_id']\n",
    "    parks_dict[target_search] = park_id\n"
   ]
  },
  {
   "cell_type": "code",
   "execution_count": 6,
   "metadata": {},
   "outputs": [
    {
     "data": {
      "text/plain": [
       "{'Acadia': 'ChIJJSmiDrKjrkwRhFVV_A4i32I',\n",
       " 'American Samoa': 'ChIJRx3UY-WEpnERNJZ__Rw4Hy8',\n",
       " 'Arches': 'ChIJUaoNhhr2yoARlcQo0WnqQk8',\n",
       " 'Badlands': 'ChIJIyAFGAyHfocR8Hfm2jFeaGk',\n",
       " 'Big Bend': 'ChIJK-_lS3AX8oYRD4WDJ7x9RmQ',\n",
       " 'Biscayne': 'ChIJK4Wkv7jb2YgRv7LTOSIRIRI',\n",
       " 'Black Canyon of the Gunnison': 'ChIJ8Wo3SfxeP4cRvIuts5LWMT8',\n",
       " 'Bryce Canyon': 'ChIJLevDAsZrNYcRBm2svvvY6Ws',\n",
       " 'Canyonlands': 'ChIJqaYYRe7hR4cRquYCxalSpBU',\n",
       " 'Capitol Reef': 'ChIJU6LnB_8ASocRB_9PSFPsO94',\n",
       " 'Carlsbad Caverns': 'ChIJW9e4xBN544YRvbI7vfc91G4',\n",
       " 'Channel Islands': 'ChIJFXm2LM5S6IARzDo6cliV5PU',\n",
       " 'Congaree': 'ChIJBwa8iRQ1_4gRmiPbgxV26CE',\n",
       " 'Crater Lake': 'ChIJOePlQAgXxlQRo-MvReHyK5A',\n",
       " 'Cuyahoga Valley': 'ChIJdfUpIkjeMIgRquWefEq-yco',\n",
       " 'Death Valley': 'ChIJR4qudndLx4ARVLDye3zwycw',\n",
       " 'Denali': 'ChIJBRbQiP_zzVYRpTYZExU7tcY',\n",
       " 'Dry Tortugas': 'ChIJP5KVUbD4zogR5scig326JKo',\n",
       " 'Everglades': 'ChIJ2wVsejCo0IgRlzEvdlY-4A8',\n",
       " 'Gates of the Arctic': 'ChIJbcXUoz4vKFERYkhcRDyuSp0',\n",
       " 'Glacier': 'ChIJVVVVVRWQaFMR7F3FFSK8Fq8',\n",
       " 'Glacier Bay': 'ChIJKTncO2TDAVQR4F7rb5QiqMQ',\n",
       " 'Grand Canyon': 'ChIJFU2bda4SM4cRKSCRyb6pOB8',\n",
       " 'Grand Teton': 'ChIJd8WCU2GrU1MRYZXka9xjvIY',\n",
       " 'Great Basin': 'ChIJAw3M1yVcsYARMb2-rw911Dw',\n",
       " 'Great Sand Dunes': 'ChIJx8vZHeYvFIcR2YMP0IqR1zM',\n",
       " 'Great Smoky Mountains': 'ChIJFRj7iGuYXogRYSR1p8Fvkjw',\n",
       " 'Guadalupe Mountains': 'ChIJBRDHA88Z5IYR6j2_UzQLfxI',\n",
       " 'Haleakala': 'ChIJs6VMjG23VHkR_iOK9eJFt4Q',\n",
       " 'Hawaii Volcanoes': 'ChIJscm5wLZhUXkRJq6EPCZ7Wz4',\n",
       " 'Hot Springs': 'ChIJlfUUPk8qzYcR3UgpdjlmLVg',\n",
       " 'Isle Royale': 'ChIJoZYDbByDWU0RXzugIWJZcsI',\n",
       " 'Joshua Tree': 'ChIJe6hluYWP2oAR4p3rOqftdxk',\n",
       " 'Katmai': 'ChIJlVS0K-7C6VYR8unqDr4HTUw',\n",
       " 'Kenai Fjords': 'ChIJCaoIBmOcx1YRZNwuJ-08FBI',\n",
       " 'Kings Canyon': 'ChIJe6fxX-7Vv4ARTA9DcLeDZII',\n",
       " 'Kobuk Valley': 'ChIJE-20n-0s0lARk3RiU6AV2_g',\n",
       " 'Lake Clark': 'ChIJ3zB887XwxFYRyVL1kgdfI24',\n",
       " 'Lassen Volcanic': 'ChIJvzhBwQdWnYARQmdmeqfYNI8',\n",
       " 'Mammoth Cave': 'ChIJV3vJlE0CZogRwKOAYKCziB8',\n",
       " 'Mesa Verde': 'ChIJH3HXLr9gOYcRYxj2G6KV9nk',\n",
       " 'Mount Rainier': 'ChIJh0vJ7ubNkFQRGKSRT_uh9Fw',\n",
       " 'North Cascades': 'ChIJTx-7A5iIhFQRKWXpEuIHTdI',\n",
       " 'Olympic': 'ChIJ0XIEzwmAjlQRUXl9squHIAA',\n",
       " 'Petrified Forest': 'ChIJGxCFckadL4cRvzW0SUXpz64',\n",
       " 'Pinnacles': 'ChIJn93OiYBDkoAR7kSomO77gps',\n",
       " 'Redwood': 'ChIJ2WTus2UF0VQRlKGoBBkxpUg',\n",
       " 'Rocky Mountain': 'ChIJ6QNZReR5aYcRF4KOp0PuJ_o',\n",
       " 'Saguaro': 'ChIJY3ZWFrpv1oYRKo6u5b-Wx5E',\n",
       " 'Sequoia': 'ChIJeWUZLX37v4ARZPQen_nfCkQ',\n",
       " 'Shenandoah': 'ChIJESb8ihdhtIkRMYiMZWR5F-Y',\n",
       " 'Theodore Roosevelt': 'ChIJk_529_7nJVMRq8ScuXcuYZU',\n",
       " 'Virgin Islands': 'ChIJm6uiKCASBYwRBgHYhIjkW7c',\n",
       " 'Voyageurs': 'ChIJq6qqqqpNu1IRWh4CslrEFeQ',\n",
       " 'Wind Cave': 'ChIJc9VWJGjWfIcRf6VZJY9Q7Tk',\n",
       " 'Wrangell–St. Elias': 'ChIJ4bir1D2LtFYR-KY3OpJmegs',\n",
       " 'Yellowstone': 'ChIJVVVVVVXlUVMRu-GPNDD5qKw',\n",
       " 'Yosemite': 'ChIJxeyK9Z3wloAR_gOA7SycJC0',\n",
       " 'Zion': 'ChIJ2fhEiNDqyoAR9VY2qhU6Lnw'}"
      ]
     },
     "execution_count": 6,
     "metadata": {},
     "output_type": "execute_result"
    }
   ],
   "source": [
    "parks_dict"
   ]
  },
  {
   "cell_type": "code",
   "execution_count": 7,
   "metadata": {
    "tags": []
   },
   "outputs": [],
   "source": [
    "# google_parks_data = response.json()\n",
    "# p_id = google_parks_data['candidates'][0]['place_id']\n",
    "# print(p_id)"
   ]
  },
  {
   "cell_type": "code",
   "execution_count": 8,
   "metadata": {
    "tags": []
   },
   "outputs": [],
   "source": [
    "# possible .iterrows\n",
    "# for key in parks_dict:\n",
    "#     print(key, parks_dict[key])"
   ]
  },
  {
   "cell_type": "code",
   "execution_count": 9,
   "metadata": {
    "tags": []
   },
   "outputs": [
    {
     "name": "stdout",
     "output_type": "stream",
     "text": [
      "Acadia National Park\n",
      "National Park of American Samoa\n",
      "Arches National Park\n",
      "Badlands National Park\n",
      "Big Bend National Park\n",
      "Biscayne National Park\n",
      "Black Canyon of the Gunnison National Park\n",
      "Bryce Canyon National Park\n",
      "Canyonlands National Park\n",
      "Capitol Reef National Park\n",
      "Carlsbad Caverns National Park\n",
      "Channel Islands National Park\n",
      "Congaree National Park\n",
      "Crater Lake National Park\n",
      "Cuyahoga Valley National Park\n",
      "Death Valley National Park\n",
      "Denali National Park and Preserve\n",
      "Dry Tortugas\n",
      "'rating' Dry Tortugas Dry Tortugas\n",
      "Everglades National Park\n",
      "Gates of the Arctic National Park and Preserve\n",
      "Glacier National Park\n",
      "Glacier Bay Basin\n",
      "Grand Canyon National Park\n",
      "Grand Teton\n",
      "Great Basin National Park\n",
      "Great Sand Dunes National Park and Preserve\n",
      "Great Smoky Mountains National Park\n",
      "Guadalupe Peak\n",
      "Haleakalā\n",
      "Hawaiʻi Volcanoes National Park\n",
      "Hot Springs National Park\n",
      "Isle Royale National Park\n",
      "Joshua Tree National Park\n",
      "Katmai National Park and Preserve\n",
      "Kenai Fjords National Park\n",
      "Kings Canyon National Park\n",
      "Kobuk Valley National Park\n",
      "Lake Clark National Park and Preserve\n",
      "Lassen Volcanic National Park\n",
      "Mammoth Cave National Park\n",
      "Mesa Verde National Park\n",
      "Mount Rainier National Park\n",
      "Olympic National Park\n",
      "Petrified Forest National Park\n",
      "Pinnacles National Park\n",
      "Redwood State Park\n",
      "Rocky Mountain National Park\n",
      "Saguaro National Park\n",
      "Sequoia National Park\n",
      "Shenandoah National Park\n",
      "Theodore Roosevelt National Park\n",
      "Virgin Islands National Park\n",
      "Voyageurs National Park\n",
      "Wind Cave National Park\n",
      "Wrangell Mountains\n",
      "Yellowstone National Park\n",
      "Yosemite National Park\n",
      "Zion National Park\n"
     ]
    }
   ],
   "source": [
    "\n",
    "park_title = []\n",
    "park_name = []\n",
    "park_rating = []\n",
    "park_total_ratings = []\n",
    "\n",
    "for key in parks_dict:\n",
    "\n",
    "    if key != 'North Cascades':\n",
    "\n",
    "        place_id = parks_dict[key]\n",
    "\n",
    "        params2 = {    \n",
    "            \"place_id\": place_id,\n",
    "            \"key\": gkey\n",
    "        }\n",
    "\n",
    "        base_detail_url= \"https://maps.googleapis.com/maps/api/place/details/json\"\n",
    "\n",
    "        try:\n",
    "\n",
    "            response2 = requests.get(base_detail_url, params=params2)\n",
    "            # time.sleep(10)\n",
    "            park_details = response2.json()\n",
    "\n",
    "            print(park_details[\"result\"][\"name\"])\n",
    "\n",
    "            park_title.append(key)\n",
    "            park_name.append(park_details[\"result\"][\"name\"])\n",
    "            park_rating.append(park_details[\"result\"][\"rating\"])\n",
    "            park_total_ratings.append(park_details[\"result\"][\"user_ratings_total\"])\n",
    "\n",
    "        except Exception as e:\n",
    "            print(e, key, park_details[\"result\"][\"name\"])\n",
    "            continue\n",
    "\n"
   ]
  },
  {
   "cell_type": "code",
   "execution_count": 10,
   "metadata": {},
   "outputs": [
    {
     "data": {
      "text/plain": [
       "['Acadia National Park',\n",
       " 'National Park of American Samoa',\n",
       " 'Arches National Park',\n",
       " 'Badlands National Park',\n",
       " 'Big Bend National Park',\n",
       " 'Biscayne National Park',\n",
       " 'Black Canyon of the Gunnison National Park',\n",
       " 'Bryce Canyon National Park',\n",
       " 'Canyonlands National Park',\n",
       " 'Capitol Reef National Park',\n",
       " 'Carlsbad Caverns National Park',\n",
       " 'Channel Islands National Park',\n",
       " 'Congaree National Park',\n",
       " 'Crater Lake National Park',\n",
       " 'Cuyahoga Valley National Park',\n",
       " 'Death Valley National Park',\n",
       " 'Denali National Park and Preserve',\n",
       " 'Dry Tortugas',\n",
       " 'Everglades National Park',\n",
       " 'Gates of the Arctic National Park and Preserve',\n",
       " 'Glacier National Park',\n",
       " 'Glacier Bay Basin',\n",
       " 'Grand Canyon National Park',\n",
       " 'Grand Teton',\n",
       " 'Great Basin National Park',\n",
       " 'Great Sand Dunes National Park and Preserve',\n",
       " 'Great Smoky Mountains National Park',\n",
       " 'Guadalupe Peak',\n",
       " 'Haleakalā',\n",
       " 'Hawaiʻi Volcanoes National Park',\n",
       " 'Hot Springs National Park',\n",
       " 'Isle Royale National Park',\n",
       " 'Joshua Tree National Park',\n",
       " 'Katmai National Park and Preserve',\n",
       " 'Kenai Fjords National Park',\n",
       " 'Kings Canyon National Park',\n",
       " 'Kobuk Valley National Park',\n",
       " 'Lake Clark National Park and Preserve',\n",
       " 'Lassen Volcanic National Park',\n",
       " 'Mammoth Cave National Park',\n",
       " 'Mesa Verde National Park',\n",
       " 'Mount Rainier National Park',\n",
       " 'Olympic National Park',\n",
       " 'Petrified Forest National Park',\n",
       " 'Pinnacles National Park',\n",
       " 'Redwood State Park',\n",
       " 'Rocky Mountain National Park',\n",
       " 'Saguaro National Park',\n",
       " 'Sequoia National Park',\n",
       " 'Shenandoah National Park',\n",
       " 'Theodore Roosevelt National Park',\n",
       " 'Virgin Islands National Park',\n",
       " 'Voyageurs National Park',\n",
       " 'Wind Cave National Park',\n",
       " 'Wrangell Mountains',\n",
       " 'Yellowstone National Park',\n",
       " 'Yosemite National Park',\n",
       " 'Zion National Park']"
      ]
     },
     "execution_count": 10,
     "metadata": {},
     "output_type": "execute_result"
    }
   ],
   "source": [
    "park_name"
   ]
  },
  {
   "cell_type": "code",
   "execution_count": 11,
   "metadata": {},
   "outputs": [
    {
     "data": {
      "text/html": [
       "<div>\n",
       "<style scoped>\n",
       "    .dataframe tbody tr th:only-of-type {\n",
       "        vertical-align: middle;\n",
       "    }\n",
       "\n",
       "    .dataframe tbody tr th {\n",
       "        vertical-align: top;\n",
       "    }\n",
       "\n",
       "    .dataframe thead th {\n",
       "        text-align: right;\n",
       "    }\n",
       "</style>\n",
       "<table border=\"1\" class=\"dataframe\">\n",
       "  <thead>\n",
       "    <tr style=\"text-align: right;\">\n",
       "      <th></th>\n",
       "      <th>title</th>\n",
       "      <th>name</th>\n",
       "      <th>rating</th>\n",
       "      <th>total_ratings</th>\n",
       "    </tr>\n",
       "  </thead>\n",
       "  <tbody>\n",
       "    <tr>\n",
       "      <th>0</th>\n",
       "      <td>Acadia</td>\n",
       "      <td>Acadia National Park</td>\n",
       "      <td>4.9</td>\n",
       "      <td>12044</td>\n",
       "    </tr>\n",
       "    <tr>\n",
       "      <th>1</th>\n",
       "      <td>American Samoa</td>\n",
       "      <td>National Park of American Samoa</td>\n",
       "      <td>4.6</td>\n",
       "      <td>65</td>\n",
       "    </tr>\n",
       "    <tr>\n",
       "      <th>2</th>\n",
       "      <td>Arches</td>\n",
       "      <td>Arches National Park</td>\n",
       "      <td>4.8</td>\n",
       "      <td>18997</td>\n",
       "    </tr>\n",
       "    <tr>\n",
       "      <th>3</th>\n",
       "      <td>Badlands</td>\n",
       "      <td>Badlands National Park</td>\n",
       "      <td>4.9</td>\n",
       "      <td>10159</td>\n",
       "    </tr>\n",
       "    <tr>\n",
       "      <th>4</th>\n",
       "      <td>Big Bend</td>\n",
       "      <td>Big Bend National Park</td>\n",
       "      <td>4.8</td>\n",
       "      <td>3305</td>\n",
       "    </tr>\n",
       "  </tbody>\n",
       "</table>\n",
       "</div>"
      ],
      "text/plain": [
       "            title                             name  rating  total_ratings\n",
       "0          Acadia             Acadia National Park     4.9          12044\n",
       "1  American Samoa  National Park of American Samoa     4.6             65\n",
       "2          Arches             Arches National Park     4.8          18997\n",
       "3        Badlands           Badlands National Park     4.9          10159\n",
       "4        Big Bend           Big Bend National Park     4.8           3305"
      ]
     },
     "execution_count": 11,
     "metadata": {},
     "output_type": "execute_result"
    }
   ],
   "source": [
    "google_data = pd.DataFrame(zip(park_title, park_name, park_rating, park_total_ratings), columns=['title', 'name', 'rating', 'total_ratings'])\n",
    "\n",
    "google_data.head()"
   ]
  },
  {
   "cell_type": "markdown",
   "metadata": {},
   "source": [
    "### Create Database Connection"
   ]
  },
  {
   "cell_type": "code",
   "execution_count": 12,
   "metadata": {},
   "outputs": [],
   "source": [
    "connection=f'{connection_string}@localhost:5432/national_parks'\n",
    "engine = create_engine(f'postgresql://{connection}')"
   ]
  },
  {
   "cell_type": "code",
   "execution_count": 13,
   "metadata": {
    "tags": []
   },
   "outputs": [],
   "source": [
    "# yosemite_data=response2.json()\n",
    "# pprint(yosemite_data)"
   ]
  },
  {
   "cell_type": "code",
   "execution_count": 14,
   "metadata": {},
   "outputs": [],
   "source": [
    "# print(yosemite_data[\"result\"][\"name\"])\n",
    "# print(yosemite_data[\"result\"][\"rating\"])\n",
    "# print(yosemite_data[\"result\"][\"user_ratings_total\"])"
   ]
  },
  {
   "cell_type": "code",
   "execution_count": 15,
   "metadata": {},
   "outputs": [
    {
     "data": {
      "text/plain": [
       "['parks', 'ratings']"
      ]
     },
     "execution_count": 15,
     "metadata": {},
     "output_type": "execute_result"
    }
   ],
   "source": [
    "engine.table_names()"
   ]
  },
  {
   "cell_type": "code",
   "execution_count": 16,
   "metadata": {},
   "outputs": [],
   "source": [
    "natl_parks.to_sql(name='parks', con=engine, if_exists='append', index=False)"
   ]
  },
  {
   "cell_type": "code",
   "execution_count": 17,
   "metadata": {},
   "outputs": [],
   "source": [
    "google_data.to_sql(name='ratings', con=engine, if_exists='append', index=False)"
   ]
  },
  {
   "cell_type": "code",
   "execution_count": null,
   "metadata": {},
   "outputs": [],
   "source": []
  },
  {
   "cell_type": "code",
   "execution_count": null,
   "metadata": {},
   "outputs": [],
   "source": []
  },
  {
   "cell_type": "markdown",
   "metadata": {},
   "source": [
    "### Transform Yelp! Data"
   ]
  },
  {
   "cell_type": "code",
   "execution_count": null,
   "metadata": {},
   "outputs": [],
   "source": []
  },
  {
   "cell_type": "code",
   "execution_count": null,
   "metadata": {},
   "outputs": [],
   "source": []
  },
  {
   "cell_type": "markdown",
   "metadata": {},
   "source": [
    "### Load DataFrames into Database"
   ]
  },
  {
   "cell_type": "code",
   "execution_count": null,
   "metadata": {},
   "outputs": [],
   "source": []
  }
 ],
 "metadata": {
  "kernelspec": {
   "display_name": "Python [conda env:PythonData] *",
   "language": "python",
   "name": "conda-env-PythonData-py"
  },
  "language_info": {
   "codemirror_mode": {
    "name": "ipython",
    "version": 3
   },
   "file_extension": ".py",
   "mimetype": "text/x-python",
   "name": "python",
   "nbconvert_exporter": "python",
   "pygments_lexer": "ipython3",
   "version": "3.8.3"
  }
 },
 "nbformat": 4,
 "nbformat_minor": 2
}
