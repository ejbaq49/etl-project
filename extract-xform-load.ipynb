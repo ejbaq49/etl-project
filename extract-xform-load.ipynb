{
 "cells": [
  {
   "cell_type": "markdown",
   "metadata": {},
   "source": [
    "## US National Parks & Yelp! Reviews"
   ]
  },
  {
   "cell_type": "code",
   "execution_count": 2,
   "metadata": {},
   "outputs": [],
   "source": [
    "# dependencies\n",
    "import pandas as pd\n",
    "from sqlalchemy import create_engine\n",
    "import requests\n",
    "import json\n",
    "from pprint import pprint\n",
    "\n",
    "# API and DB Credentials\n",
    "# from keys import db_cred\n",
    "from keys import gkey\n",
    "\n"
   ]
  },
  {
   "cell_type": "markdown",
   "metadata": {},
   "source": [
    "### Extract Park Data from JSON\n"
   ]
  },
  {
   "cell_type": "code",
   "execution_count": 3,
   "metadata": {},
   "outputs": [
    {
     "output_type": "execute_result",
     "data": {
      "text/plain": "                                              area  \\\n0     {'acres': '49,057.36', 'square_km': '198.5'}   \n1       {'acres': '8,256.67', 'square_km': '33.4'}   \n2     {'acres': '76,678.98', 'square_km': '310.3'}   \n3    {'acres': '242,755.94', 'square_km': '982.4'}   \n4  {'acres': '801,163.21', 'square_km': '3,242.2'}   \n\n                                  coordinates date_established_readable  \\\n0    {'latitude': 44.35, 'longitude': -68.21}         February 26, 1919   \n1  {'latitude': -14.25, 'longitude': -170.68}          October 31, 1988   \n2   {'latitude': 38.68, 'longitude': -109.57}         November 12, 1971   \n3    {'latitude': 43.75, 'longitude': -102.5}         November 10, 1978   \n4   {'latitude': 29.25, 'longitude': -103.25}             June 12, 1944   \n\n   date_established_unix                                        description  \\\n0            -1604599200  Covering most of Mount Desert Island and other...   \n1              594280800  The southernmost National Park is on three Sam...   \n2               58773600  This site features more than 2,000 natural san...   \n3              279525600  The Badlands are a collection of buttes, pinna...   \n4             -806439600  Named for the prominent bend in the Rio Grande...   \n\n                                               image  \\\n0  {'url': 'acadia.jpg', 'attribution': 'PixelBay...   \n1  {'url': 'american-samoa.jpg', 'attribution': '...   \n2  {'url': 'arches.jpg', 'attribution': 'PixelBay...   \n3  {'url': 'badlands.jpg', 'attribution': 'PixelB...   \n4  {'url': 'big-bend.jpg', 'attribution': 'PixelB...   \n\n                             nps_link  \\\n0  https://www.nps.gov/acad/index.htm   \n1  https://www.nps.gov/npsa/index.htm   \n2  https://www.nps.gov/arch/index.htm   \n3  https://www.nps.gov/badl/index.htm   \n4  https://www.nps.gov/bibe/index.htm   \n\n                                              states           title  \\\n0          [{'id': 'state_maine', 'title': 'Maine'}]          Acadia   \n1  [{'id': 'state_american-samoa', 'title': 'Amer...  American Samoa   \n2            [{'id': 'state_utah', 'title': 'Utah'}]          Arches   \n3  [{'id': 'state_south-dakota', 'title': 'South ...        Badlands   \n4          [{'id': 'state_texas', 'title': 'Texas'}]        Big Bend   \n\n                    id   visitors  world_heritage_site  \n0          park_acadia  3,303,393                False  \n1  park_american-samoa     28,892                False  \n2          park_arches  1,585,718                False  \n3        park_badlands    996,263                False  \n4        park_big-bend    388,290                False  ",
      "text/html": "<div>\n<style scoped>\n    .dataframe tbody tr th:only-of-type {\n        vertical-align: middle;\n    }\n\n    .dataframe tbody tr th {\n        vertical-align: top;\n    }\n\n    .dataframe thead th {\n        text-align: right;\n    }\n</style>\n<table border=\"1\" class=\"dataframe\">\n  <thead>\n    <tr style=\"text-align: right;\">\n      <th></th>\n      <th>area</th>\n      <th>coordinates</th>\n      <th>date_established_readable</th>\n      <th>date_established_unix</th>\n      <th>description</th>\n      <th>image</th>\n      <th>nps_link</th>\n      <th>states</th>\n      <th>title</th>\n      <th>id</th>\n      <th>visitors</th>\n      <th>world_heritage_site</th>\n    </tr>\n  </thead>\n  <tbody>\n    <tr>\n      <th>0</th>\n      <td>{'acres': '49,057.36', 'square_km': '198.5'}</td>\n      <td>{'latitude': 44.35, 'longitude': -68.21}</td>\n      <td>February 26, 1919</td>\n      <td>-1604599200</td>\n      <td>Covering most of Mount Desert Island and other...</td>\n      <td>{'url': 'acadia.jpg', 'attribution': 'PixelBay...</td>\n      <td>https://www.nps.gov/acad/index.htm</td>\n      <td>[{'id': 'state_maine', 'title': 'Maine'}]</td>\n      <td>Acadia</td>\n      <td>park_acadia</td>\n      <td>3,303,393</td>\n      <td>False</td>\n    </tr>\n    <tr>\n      <th>1</th>\n      <td>{'acres': '8,256.67', 'square_km': '33.4'}</td>\n      <td>{'latitude': -14.25, 'longitude': -170.68}</td>\n      <td>October 31, 1988</td>\n      <td>594280800</td>\n      <td>The southernmost National Park is on three Sam...</td>\n      <td>{'url': 'american-samoa.jpg', 'attribution': '...</td>\n      <td>https://www.nps.gov/npsa/index.htm</td>\n      <td>[{'id': 'state_american-samoa', 'title': 'Amer...</td>\n      <td>American Samoa</td>\n      <td>park_american-samoa</td>\n      <td>28,892</td>\n      <td>False</td>\n    </tr>\n    <tr>\n      <th>2</th>\n      <td>{'acres': '76,678.98', 'square_km': '310.3'}</td>\n      <td>{'latitude': 38.68, 'longitude': -109.57}</td>\n      <td>November 12, 1971</td>\n      <td>58773600</td>\n      <td>This site features more than 2,000 natural san...</td>\n      <td>{'url': 'arches.jpg', 'attribution': 'PixelBay...</td>\n      <td>https://www.nps.gov/arch/index.htm</td>\n      <td>[{'id': 'state_utah', 'title': 'Utah'}]</td>\n      <td>Arches</td>\n      <td>park_arches</td>\n      <td>1,585,718</td>\n      <td>False</td>\n    </tr>\n    <tr>\n      <th>3</th>\n      <td>{'acres': '242,755.94', 'square_km': '982.4'}</td>\n      <td>{'latitude': 43.75, 'longitude': -102.5}</td>\n      <td>November 10, 1978</td>\n      <td>279525600</td>\n      <td>The Badlands are a collection of buttes, pinna...</td>\n      <td>{'url': 'badlands.jpg', 'attribution': 'PixelB...</td>\n      <td>https://www.nps.gov/badl/index.htm</td>\n      <td>[{'id': 'state_south-dakota', 'title': 'South ...</td>\n      <td>Badlands</td>\n      <td>park_badlands</td>\n      <td>996,263</td>\n      <td>False</td>\n    </tr>\n    <tr>\n      <th>4</th>\n      <td>{'acres': '801,163.21', 'square_km': '3,242.2'}</td>\n      <td>{'latitude': 29.25, 'longitude': -103.25}</td>\n      <td>June 12, 1944</td>\n      <td>-806439600</td>\n      <td>Named for the prominent bend in the Rio Grande...</td>\n      <td>{'url': 'big-bend.jpg', 'attribution': 'PixelB...</td>\n      <td>https://www.nps.gov/bibe/index.htm</td>\n      <td>[{'id': 'state_texas', 'title': 'Texas'}]</td>\n      <td>Big Bend</td>\n      <td>park_big-bend</td>\n      <td>388,290</td>\n      <td>False</td>\n    </tr>\n  </tbody>\n</table>\n</div>"
     },
     "metadata": {},
     "execution_count": 3
    }
   ],
   "source": [
    "json_file = \"resources/data.json\"\n",
    "parks_df = pd.read_json(json_file)\n",
    "parks_df.head()"
   ]
  },
  {
   "cell_type": "markdown",
   "metadata": {},
   "source": [
    "### Transform Park Data"
   ]
  },
  {
   "cell_type": "code",
   "execution_count": 65,
   "metadata": {},
   "outputs": [
    {
     "output_type": "execute_result",
     "data": {
      "text/plain": "                                              area  \\\n0     {'acres': '49,057.36', 'square_km': '198.5'}   \n1       {'acres': '8,256.67', 'square_km': '33.4'}   \n2     {'acres': '76,678.98', 'square_km': '310.3'}   \n3    {'acres': '242,755.94', 'square_km': '982.4'}   \n4  {'acres': '801,163.21', 'square_km': '3,242.2'}   \n\n                                  coordinates date_established_readable  \\\n0    {'latitude': 44.35, 'longitude': -68.21}         February 26, 1919   \n1  {'latitude': -14.25, 'longitude': -170.68}          October 31, 1988   \n2   {'latitude': 38.68, 'longitude': -109.57}         November 12, 1971   \n3    {'latitude': 43.75, 'longitude': -102.5}         November 10, 1978   \n4   {'latitude': 29.25, 'longitude': -103.25}             June 12, 1944   \n\n                                         description           title  \\\n0  Covering most of Mount Desert Island and other...          Acadia   \n1  The southernmost National Park is on three Sam...  American Samoa   \n2  This site features more than 2,000 natural san...          Arches   \n3  The Badlands are a collection of buttes, pinna...        Badlands   \n4  Named for the prominent bend in the Rio Grande...        Big Bend   \n\n                    id   visitors  world_heritage_site  \n0          park_acadia  3,303,393                False  \n1  park_american-samoa     28,892                False  \n2          park_arches  1,585,718                False  \n3        park_badlands    996,263                False  \n4        park_big-bend    388,290                False  ",
      "text/html": "<div>\n<style scoped>\n    .dataframe tbody tr th:only-of-type {\n        vertical-align: middle;\n    }\n\n    .dataframe tbody tr th {\n        vertical-align: top;\n    }\n\n    .dataframe thead th {\n        text-align: right;\n    }\n</style>\n<table border=\"1\" class=\"dataframe\">\n  <thead>\n    <tr style=\"text-align: right;\">\n      <th></th>\n      <th>area</th>\n      <th>coordinates</th>\n      <th>date_established_readable</th>\n      <th>description</th>\n      <th>title</th>\n      <th>id</th>\n      <th>visitors</th>\n      <th>world_heritage_site</th>\n    </tr>\n  </thead>\n  <tbody>\n    <tr>\n      <th>0</th>\n      <td>{'acres': '49,057.36', 'square_km': '198.5'}</td>\n      <td>{'latitude': 44.35, 'longitude': -68.21}</td>\n      <td>February 26, 1919</td>\n      <td>Covering most of Mount Desert Island and other...</td>\n      <td>Acadia</td>\n      <td>park_acadia</td>\n      <td>3,303,393</td>\n      <td>False</td>\n    </tr>\n    <tr>\n      <th>1</th>\n      <td>{'acres': '8,256.67', 'square_km': '33.4'}</td>\n      <td>{'latitude': -14.25, 'longitude': -170.68}</td>\n      <td>October 31, 1988</td>\n      <td>The southernmost National Park is on three Sam...</td>\n      <td>American Samoa</td>\n      <td>park_american-samoa</td>\n      <td>28,892</td>\n      <td>False</td>\n    </tr>\n    <tr>\n      <th>2</th>\n      <td>{'acres': '76,678.98', 'square_km': '310.3'}</td>\n      <td>{'latitude': 38.68, 'longitude': -109.57}</td>\n      <td>November 12, 1971</td>\n      <td>This site features more than 2,000 natural san...</td>\n      <td>Arches</td>\n      <td>park_arches</td>\n      <td>1,585,718</td>\n      <td>False</td>\n    </tr>\n    <tr>\n      <th>3</th>\n      <td>{'acres': '242,755.94', 'square_km': '982.4'}</td>\n      <td>{'latitude': 43.75, 'longitude': -102.5}</td>\n      <td>November 10, 1978</td>\n      <td>The Badlands are a collection of buttes, pinna...</td>\n      <td>Badlands</td>\n      <td>park_badlands</td>\n      <td>996,263</td>\n      <td>False</td>\n    </tr>\n    <tr>\n      <th>4</th>\n      <td>{'acres': '801,163.21', 'square_km': '3,242.2'}</td>\n      <td>{'latitude': 29.25, 'longitude': -103.25}</td>\n      <td>June 12, 1944</td>\n      <td>Named for the prominent bend in the Rio Grande...</td>\n      <td>Big Bend</td>\n      <td>park_big-bend</td>\n      <td>388,290</td>\n      <td>False</td>\n    </tr>\n  </tbody>\n</table>\n</div>"
     },
     "metadata": {},
     "execution_count": 65
    }
   ],
   "source": [
    "natl_parks=parks_df.drop(columns=['date_established_unix','image', 'nps_link','states'])\n",
    "natl_parks.set_index('title',drop=True)\n",
    "natl_parks.head()"
   ]
  },
  {
   "cell_type": "code",
   "execution_count": 28,
   "metadata": {
    "tags": []
   },
   "outputs": [
    {
     "output_type": "execute_result",
     "data": {
      "text/plain": "['Acadia',\n 'American Samoa',\n 'Arches',\n 'Badlands',\n 'Big Bend',\n 'Biscayne',\n 'Black Canyon of the Gunnison',\n 'Bryce Canyon',\n 'Canyonlands',\n 'Capitol Reef',\n 'Carlsbad Caverns',\n 'Channel Islands',\n 'Congaree',\n 'Crater Lake',\n 'Cuyahoga Valley',\n 'Death Valley',\n 'Denali',\n 'Dry Tortugas',\n 'Everglades',\n 'Gates of the Arctic',\n 'Glacier',\n 'Glacier Bay',\n 'Grand Canyon',\n 'Grand Teton',\n 'Great Basin',\n 'Great Sand Dunes',\n 'Great Smoky Mountains',\n 'Guadalupe Mountains',\n 'Haleakala',\n 'Hawaii Volcanoes',\n 'Hot Springs',\n 'Isle Royale',\n 'Joshua Tree',\n 'Katmai',\n 'Kenai Fjords',\n 'Kings Canyon',\n 'Kobuk Valley',\n 'Lake Clark',\n 'Lassen Volcanic',\n 'Mammoth Cave',\n 'Mesa Verde',\n 'Mount Rainier',\n 'North Cascades',\n 'Olympic',\n 'Petrified Forest',\n 'Pinnacles',\n 'Redwood',\n 'Rocky Mountain',\n 'Saguaro',\n 'Sequoia',\n 'Shenandoah',\n 'Theodore Roosevelt',\n 'Virgin Islands',\n 'Voyageurs',\n 'Wind Cave',\n 'Wrangell–St. Elias',\n 'Yellowstone',\n 'Yosemite',\n 'Zion']"
     },
     "metadata": {},
     "execution_count": 28
    }
   ],
   "source": [
    "park_list = []\n",
    "\n",
    "for target_search in natl_parks['title']:\n",
    "    park_list.append(target_search)\n",
    "\n",
    "park_list"
   ]
  },
  {
   "cell_type": "markdown",
   "metadata": {},
   "source": [
    "### Extract google places Reviews\n"
   ]
  },
  {
   "cell_type": "code",
   "execution_count": 66,
   "metadata": {
    "tags": []
   },
   "outputs": [],
   "source": [
    "# use Park DataFrame for names\n",
    "# target_search = \"acadia national park\"\n",
    "\n",
    "\n",
    "parks_dict = {}\n",
    "\n",
    "for target_search in natl_parks['title']:\n",
    "    params = {    \n",
    "        \"input\": target_search + \" national park\",\n",
    "        \"inputtype\": \"textquery\",\n",
    "        \"key\": gkey\n",
    "    }\n",
    "\n",
    "    base_url = \"https://maps.googleapis.com/maps/api/place/findplacefromtext/json\"\n",
    "\n",
    "    response = requests.get(base_url, params=params)\n",
    "\n",
    "    google_parks_data = response.json()\n",
    "    park_id = google_parks_data['candidates'][0]['place_id']\n",
    "    parks_dict[target_search] = park_id\n"
   ]
  },
  {
   "cell_type": "code",
   "execution_count": 67,
   "metadata": {},
   "outputs": [
    {
     "output_type": "execute_result",
     "data": {
      "text/plain": "{'Acadia': 'ChIJJSmiDrKjrkwRhFVV_A4i32I',\n 'American Samoa': 'ChIJRx3UY-WEpnERNJZ__Rw4Hy8',\n 'Arches': 'ChIJUaoNhhr2yoARlcQo0WnqQk8',\n 'Badlands': 'ChIJIyAFGAyHfocR8Hfm2jFeaGk',\n 'Big Bend': 'ChIJK-_lS3AX8oYRD4WDJ7x9RmQ',\n 'Biscayne': 'ChIJK4Wkv7jb2YgRv7LTOSIRIRI',\n 'Black Canyon of the Gunnison': 'ChIJ8Wo3SfxeP4cRvIuts5LWMT8',\n 'Bryce Canyon': 'ChIJLevDAsZrNYcRBm2svvvY6Ws',\n 'Canyonlands': 'ChIJqaYYRe7hR4cRquYCxalSpBU',\n 'Capitol Reef': 'ChIJU6LnB_8ASocRB_9PSFPsO94',\n 'Carlsbad Caverns': 'ChIJW9e4xBN544YRvbI7vfc91G4',\n 'Channel Islands': 'ChIJFXm2LM5S6IARzDo6cliV5PU',\n 'Congaree': 'ChIJBwa8iRQ1_4gRmiPbgxV26CE',\n 'Crater Lake': 'ChIJOePlQAgXxlQRo-MvReHyK5A',\n 'Cuyahoga Valley': 'ChIJdfUpIkjeMIgRquWefEq-yco',\n 'Death Valley': 'ChIJR4qudndLx4ARVLDye3zwycw',\n 'Denali': 'ChIJBRbQiP_zzVYRpTYZExU7tcY',\n 'Dry Tortugas': 'ChIJV_YGBNFVzogRoR0zV_0OsVs',\n 'Everglades': 'ChIJ2wVsejCo0IgRlzEvdlY-4A8',\n 'Gates of the Arctic': 'ChIJbcXUoz4vKFERYkhcRDyuSp0',\n 'Glacier': 'ChIJVVVVVRWQaFMR7F3FFSK8Fq8',\n 'Glacier Bay': 'ChIJKTncO2TDAVQR4F7rb5QiqMQ',\n 'Grand Canyon': 'ChIJFU2bda4SM4cRKSCRyb6pOB8',\n 'Grand Teton': 'ChIJd8WCU2GrU1MRYZXka9xjvIY',\n 'Great Basin': 'ChIJAw3M1yVcsYARMb2-rw911Dw',\n 'Great Sand Dunes': 'ChIJx8vZHeYvFIcR2YMP0IqR1zM',\n 'Great Smoky Mountains': 'ChIJFRj7iGuYXogRYSR1p8Fvkjw',\n 'Guadalupe Mountains': 'ChIJBRDHA88Z5IYR6j2_UzQLfxI',\n 'Haleakala': 'ChIJs6VMjG23VHkR_iOK9eJFt4Q',\n 'Hawaii Volcanoes': 'ChIJscm5wLZhUXkRJq6EPCZ7Wz4',\n 'Hot Springs': 'ChIJlfUUPk8qzYcR3UgpdjlmLVg',\n 'Isle Royale': 'ChIJoZYDbByDWU0RXzugIWJZcsI',\n 'Joshua Tree': 'ChIJe6hluYWP2oAR4p3rOqftdxk',\n 'Katmai': 'ChIJlVS0K-7C6VYR8unqDr4HTUw',\n 'Kenai Fjords': 'ChIJCaoIBmOcx1YRZNwuJ-08FBI',\n 'Kings Canyon': 'ChIJe6fxX-7Vv4ARTA9DcLeDZII',\n 'Kobuk Valley': 'ChIJE-20n-0s0lARk3RiU6AV2_g',\n 'Lake Clark': 'ChIJ3zB887XwxFYRyVL1kgdfI24',\n 'Lassen Volcanic': 'ChIJvzhBwQdWnYARQmdmeqfYNI8',\n 'Mammoth Cave': 'ChIJtfXnQCkDZogRC7yKHsOo1Ko',\n 'Mesa Verde': 'ChIJH3HXLr9gOYcRYxj2G6KV9nk',\n 'Mount Rainier': 'ChIJh0vJ7ubNkFQRGKSRT_uh9Fw',\n 'North Cascades': 'ChIJTx-7A5iIhFQRKWXpEuIHTdI',\n 'Olympic': 'ChIJ0XIEzwmAjlQRUXl9squHIAA',\n 'Petrified Forest': 'ChIJGxCFckadL4cRvzW0SUXpz64',\n 'Pinnacles': 'ChIJn93OiYBDkoAR7kSomO77gps',\n 'Redwood': 'ChIJ2WTus2UF0VQRlKGoBBkxpUg',\n 'Rocky Mountain': 'ChIJ6QNZReR5aYcRF4KOp0PuJ_o',\n 'Saguaro': 'ChIJY3ZWFrpv1oYRKo6u5b-Wx5E',\n 'Sequoia': 'ChIJeWUZLX37v4ARZPQen_nfCkQ',\n 'Shenandoah': 'ChIJESb8ihdhtIkRMYiMZWR5F-Y',\n 'Theodore Roosevelt': 'ChIJk_529_7nJVMRq8ScuXcuYZU',\n 'Virgin Islands': 'ChIJm6uiKCASBYwRBgHYhIjkW7c',\n 'Voyageurs': 'ChIJq6qqqqpNu1IRWh4CslrEFeQ',\n 'Wind Cave': 'ChIJc9VWJGjWfIcRf6VZJY9Q7Tk',\n 'Wrangell–St. Elias': 'ChIJ4bir1D2LtFYR-KY3OpJmegs',\n 'Yellowstone': 'ChIJVVVVVVXlUVMRu-GPNDD5qKw',\n 'Yosemite': 'ChIJxeyK9Z3wloAR_gOA7SycJC0',\n 'Zion': 'ChIJ2fhEiNDqyoAR9VY2qhU6Lnw'}"
     },
     "metadata": {},
     "execution_count": 67
    }
   ],
   "source": [
    "parks_dict"
   ]
  },
  {
   "cell_type": "code",
   "execution_count": 53,
   "metadata": {
    "tags": []
   },
   "outputs": [
    {
     "output_type": "stream",
     "name": "stdout",
     "text": "ChIJ2fhEiNDqyoAR9VY2qhU6Lnw\n"
    }
   ],
   "source": [
    "google_parks_data = response.json()\n",
    "p_id = google_parks_data['candidates'][0]['place_id']\n",
    "print(p_id)"
   ]
  },
  {
   "cell_type": "code",
   "execution_count": 57,
   "metadata": {
    "tags": []
   },
   "outputs": [
    {
     "output_type": "stream",
     "name": "stdout",
     "text": "Acadia ChIJJSmiDrKjrkwRhFVV_A4i32I\nAmerican Samoa ChIJRx3UY-WEpnERNJZ__Rw4Hy8\nArches ChIJUaoNhhr2yoARlcQo0WnqQk8\nBadlands ChIJIyAFGAyHfocR8Hfm2jFeaGk\nBig Bend ChIJK-_lS3AX8oYRD4WDJ7x9RmQ\nBiscayne ChIJK4Wkv7jb2YgRv7LTOSIRIRI\nBlack Canyon of the Gunnison ChIJ8Wo3SfxeP4cRvIuts5LWMT8\nBryce Canyon ChIJLevDAsZrNYcRBm2svvvY6Ws\nCanyonlands ChIJqaYYRe7hR4cRquYCxalSpBU\nCapitol Reef ChIJU6LnB_8ASocRB_9PSFPsO94\nCarlsbad Caverns ChIJW9e4xBN544YRvbI7vfc91G4\nChannel Islands ChIJFXm2LM5S6IARzDo6cliV5PU\nCongaree ChIJBwa8iRQ1_4gRmiPbgxV26CE\nCrater Lake ChIJOePlQAgXxlQRo-MvReHyK5A\nCuyahoga Valley ChIJdfUpIkjeMIgRquWefEq-yco\nDeath Valley ChIJR4qudndLx4ARVLDye3zwycw\nDenali ChIJBRbQiP_zzVYRpTYZExU7tcY\nDry Tortugas ChIJV_YGBNFVzogRoR0zV_0OsVs\nEverglades ChIJ2wVsejCo0IgRlzEvdlY-4A8\nGates of the Arctic ChIJbcXUoz4vKFERYkhcRDyuSp0\nGlacier ChIJVVVVVRWQaFMR7F3FFSK8Fq8\nGlacier Bay ChIJKTncO2TDAVQR4F7rb5QiqMQ\nGrand Canyon ChIJFU2bda4SM4cRKSCRyb6pOB8\nGrand Teton ChIJd8WCU2GrU1MRYZXka9xjvIY\nGreat Basin ChIJAw3M1yVcsYARMb2-rw911Dw\nGreat Sand Dunes ChIJx8vZHeYvFIcR2YMP0IqR1zM\nGreat Smoky Mountains ChIJFRj7iGuYXogRYSR1p8Fvkjw\nGuadalupe Mountains ChIJBRDHA88Z5IYR6j2_UzQLfxI\nHaleakala ChIJs6VMjG23VHkR_iOK9eJFt4Q\nHawaii Volcanoes ChIJscm5wLZhUXkRJq6EPCZ7Wz4\nHot Springs ChIJlfUUPk8qzYcR3UgpdjlmLVg\nIsle Royale ChIJoZYDbByDWU0RXzugIWJZcsI\nJoshua Tree ChIJe6hluYWP2oAR4p3rOqftdxk\nKatmai ChIJlVS0K-7C6VYR8unqDr4HTUw\nKenai Fjords ChIJCaoIBmOcx1YRZNwuJ-08FBI\nKings Canyon ChIJe6fxX-7Vv4ARTA9DcLeDZII\nKobuk Valley ChIJE-20n-0s0lARk3RiU6AV2_g\nLake Clark ChIJ3zB887XwxFYRyVL1kgdfI24\nLassen Volcanic ChIJvzhBwQdWnYARQmdmeqfYNI8\nMammoth Cave ChIJtfXnQCkDZogRC7yKHsOo1Ko\nMesa Verde ChIJH3HXLr9gOYcRYxj2G6KV9nk\nMount Rainier ChIJh0vJ7ubNkFQRGKSRT_uh9Fw\nNorth Cascades ChIJTx-7A5iIhFQRKWXpEuIHTdI\nOlympic ChIJ0XIEzwmAjlQRUXl9squHIAA\nPetrified Forest ChIJGxCFckadL4cRvzW0SUXpz64\nPinnacles ChIJn93OiYBDkoAR7kSomO77gps\nRedwood ChIJ2WTus2UF0VQRlKGoBBkxpUg\nRocky Mountain ChIJ6QNZReR5aYcRF4KOp0PuJ_o\nSaguaro ChIJY3ZWFrpv1oYRKo6u5b-Wx5E\nSequoia ChIJeWUZLX37v4ARZPQen_nfCkQ\nShenandoah ChIJESb8ihdhtIkRMYiMZWR5F-Y\nTheodore Roosevelt ChIJk_529_7nJVMRq8ScuXcuYZU\nVirgin Islands ChIJm6uiKCASBYwRBgHYhIjkW7c\nVoyageurs ChIJq6qqqqpNu1IRWh4CslrEFeQ\nWind Cave ChIJc9VWJGjWfIcRf6VZJY9Q7Tk\nWrangell–St. Elias ChIJ4bir1D2LtFYR-KY3OpJmegs\nYellowstone ChIJVVVVVVXlUVMRu-GPNDD5qKw\nYosemite ChIJxeyK9Z3wloAR_gOA7SycJC0\nZion ChIJ2fhEiNDqyoAR9VY2qhU6Lnw\n"
    }
   ],
   "source": [
    "# possible .iterrows\n",
    "for key in parks_dict:\n",
    "    print(key, parks_dict[key])"
   ]
  },
  {
   "cell_type": "code",
   "execution_count": 60,
   "metadata": {},
   "outputs": [
    {
     "output_type": "execute_result",
     "data": {
      "text/plain": "Empty DataFrame\nColumns: [title, rating, user_ratings_total]\nIndex: []",
      "text/html": "<div>\n<style scoped>\n    .dataframe tbody tr th:only-of-type {\n        vertical-align: middle;\n    }\n\n    .dataframe tbody tr th {\n        vertical-align: top;\n    }\n\n    .dataframe thead th {\n        text-align: right;\n    }\n</style>\n<table border=\"1\" class=\"dataframe\">\n  <thead>\n    <tr style=\"text-align: right;\">\n      <th></th>\n      <th>title</th>\n      <th>rating</th>\n      <th>user_ratings_total</th>\n    </tr>\n  </thead>\n  <tbody>\n  </tbody>\n</table>\n</div>"
     },
     "metadata": {},
     "execution_count": 60
    }
   ],
   "source": [
    "\n",
    "# print(yosemite_data[\"result\"][\"name\"])\n",
    "# print(yosemite_data[\"result\"][\"rating\"])\n",
    "# print(yosemite_data[\"result\"][\"user_ratings_total\"])\n",
    "\n",
    "# MAKE 3 LISTS INSTEAD OF THE DATAFRAME (6.API's, Day 3, Activity 5)\n",
    "park_title = []\n",
    "park_name = []\n",
    "park_rating = []\n",
    "park_total_ratings = []\n",
    "# park_details_df = pd.DataFrame(columns=['title', 'rating', 'user_ratings_total']) \n",
    "\n",
    "\n",
    "for key in parks_dict:\n",
    "\n",
    "    place_id = parks_dict[key]\n",
    "\n",
    "    params2 = {    \n",
    "        \"place_id\": place_id,\n",
    "        \"key\": gkey\n",
    "    }\n",
    "\n",
    "    base_detail_url= \"https://maps.googleapis.com/maps/api/place/details/json\"\n",
    "\n",
    "    response2 = requests.get(base_detail_url, params=params2)\n",
    "\n",
    "    park_details = response2.json()\n",
    "\n",
    "    park_title.append(key)\n",
    "    park_name.append(park_details[\"result\"][\"name\"])\n",
    "    park_rating.append(park_details[\"result\"][\"rating\"])\n",
    "    park_total_ratings.append(park_details[\"result\"][\"user_ratings_total\"])\n",
    "\n"
   ]
  },
  {
   "cell_type": "code",
   "execution_count": 50,
   "metadata": {
    "tags": []
   },
   "outputs": [
    {
     "output_type": "stream",
     "name": "stdout",
     "text": "{'html_attributions': [],\n 'result': {'address_components': [{'long_name': 'Maine',\n                                    'short_name': 'ME',\n                                    'types': ['administrative_area_level_1',\n                                              'political']},\n                                   {'long_name': 'United States',\n                                    'short_name': 'US',\n                                    'types': ['country', 'political']}],\n            'adr_address': '<span class=\"region\">Maine</span>, <span '\n                           'class=\"country-name\">USA</span>',\n            'business_status': 'OPERATIONAL',\n            'formatted_address': 'Maine, USA',\n            'formatted_phone_number': '(207) 288-3338',\n            'geometry': {'location': {'lat': 44.3385559, 'lng': -68.2733346},\n                         'viewport': {'northeast': {'lat': 44.40370240000001,\n                                                    'lng': -68.1591412},\n                                      'southwest': {'lat': 44.2350589,\n                                                    'lng': -68.4344785}}},\n            'icon': 'https://maps.gstatic.com/mapfiles/place_api/icons/generic_recreational-71.png',\n            'id': 'ba067ae93eb196b7cbb8c521197239603d20113e',\n            'international_phone_number': '+1 207-288-3338',\n            'name': 'Acadia National Park',\n            'opening_hours': {'open_now': True,\n                              'periods': [{'open': {'day': 0, 'time': '0000'}}],\n                              'weekday_text': ['Monday: Open 24 hours',\n                                               'Tuesday: Open 24 hours',\n                                               'Wednesday: Open 24 hours',\n                                               'Thursday: Open 24 hours',\n                                               'Friday: Open 24 hours',\n                                               'Saturday: Open 24 hours',\n                                               'Sunday: Open 24 hours']},\n            'photos': [{'height': 550,\n                        'html_attributions': ['<a '\n                                              'href=\"https://maps.google.com/maps/contrib/107693087762728079595\">Saleh '\n                                              'S s s</a>'],\n                        'photo_reference': 'CmRaAAAA_oobMvffPOjK1DRt0-uAx30IieDy6uf3peOLe6Eq4M1TKygstpirWFELkjrzQCTjxjLGn77qIN_2VG-wmZo3GpPUfwyvtt--YfuwPJH4wP9rNciLmQqalxiA_FvjYBZEEhCKiLS41S76lhLA1JFikcdwGhQfnXco294mzVK_YkF93-zLlAmKvQ',\n                        'width': 750},\n                       {'height': 476,\n                        'html_attributions': ['<a '\n                                              'href=\"https://maps.google.com/maps/contrib/115830463682148492849\">Brian '\n                                              'Etzel</a>'],\n                        'photo_reference': 'CmRaAAAAmbBtHdPlJ7O47N0L0JSuZ8XFB0QN32eDXvbFE19Mc77MDW-NeHoTv543zxH4UOSJkvKYt8gUl2yHk_s1U3tWfL1gXXWhNWjVVjsoxDvOFkNoRF_fpto_7tDkJGr8KyrXEhA0UrV6PS9JWON6_hUp-U2pGhRCpCk_CkyCi1EPLy0I9natpivVuw',\n                        'width': 960},\n                       {'height': 1836,\n                        'html_attributions': ['<a '\n                                              'href=\"https://maps.google.com/maps/contrib/100970148884535502287\">Jamie '\n                                              'K</a>'],\n                        'photo_reference': 'CmRaAAAAfhpgl-PK69A46B44NBGx5KyifrZTWxXqSPPTqiILRbaVbVLz1jw-W-zmyIq1VKo7Wk69vNKm8s6jIGYwzJewK4WgiN_6QS3bO4F6J5vPu5Lx8HA5isHqGJQx6O41hmbvEhCWpMTuXI4EQpL1w9GAr2VYGhSPzCcOSnAQKlpA_gNwGhjbZu-vxw',\n                        'width': 3264},\n                       {'height': 4000,\n                        'html_attributions': ['<a '\n                                              'href=\"https://maps.google.com/maps/contrib/110446495533023383108\">Minakshi '\n                                              'Vlogs</a>'],\n                        'photo_reference': 'CmRaAAAA-h0-ZW5Q9Gz1gCyTC3WY6z71ANIsNcXVdPVyPyDqm0YLo0BPGuxyaTozjwSS7rLgZp2PNKOywOCeF6a1iTAXkm8srlgi699hmwz63AzOJfu0-emyAtLBAR4ZBb9K-nwTEhBYJLaPRpDOTuUXi7qbJz3UGhR6pyz_QOmthQ9uMu7YMJ6esR0X4Q',\n                        'width': 6000},\n                       {'height': 3024,\n                        'html_attributions': ['<a '\n                                              'href=\"https://maps.google.com/maps/contrib/103876091641420707357\">Josep '\n                                              'Segalés</a>'],\n                        'photo_reference': 'CmRaAAAAeOx0fOhYBgb9Z_WyL9MKoC0G3R2oPGp4aU00ydjdouGDK71prk_SCTp-5rK7nPFeT6JXl2r9oZ8JUNFGLvX4KwxSe2y5GSyaOnrZ8y2BWpcXuEkg8DlqOjn8UGcxvZ5mEhAFyMCIAcLgUErIZkFJj_p8GhTYU3ID04Sn_ESBJSPyEepJY6YknA',\n                        'width': 4032},\n                       {'height': 3899,\n                        'html_attributions': ['<a '\n                                              'href=\"https://maps.google.com/maps/contrib/105485410170952952226\">Jeremy '\n                                              'Rouse</a>'],\n                        'photo_reference': 'CmRaAAAA0414J8PK4jBCMgY-NpsLasM-NqTluNXWrMC2sYFd8pk23feb2lpI1oD9uml1AN7zOleFKmDc0cvY5MCsRf0bdscaDKzNYNowGJ86uzuyBR32BR6ffP0nPS1jnIqo1kXkEhDYZh5vf6eihs-7UVxht6VrGhR2ac0tFBunFOoVA9VzeaApVP_y3g',\n                        'width': 5842},\n                       {'height': 3456,\n                        'html_attributions': ['<a '\n                                              'href=\"https://maps.google.com/maps/contrib/118433886935078746403\">John '\n                                              'Vu</a>'],\n                        'photo_reference': 'CmRaAAAAwZCwXhLlaVS3WOp26zvdgKOvooZAlhyu11imlvswvIZzAOBf6ALxmZ5Ear8uhzejtlElmGOcq3aSFOO2tO_aPUyOSdSC3jntyJKeBInJJ3fFbHQfuomqyKauVhfKTMFtEhB2-hEJfHbDJZIWgy5YpxiLGhS--Yo_B3tWa4hKoXt27xNNNm_QyQ',\n                        'width': 4608},\n                       {'height': 1365,\n                        'html_attributions': ['<a '\n                                              'href=\"https://maps.google.com/maps/contrib/112516256961043944167\">Brian '\n                                              'D</a>'],\n                        'photo_reference': 'CmRaAAAAPaN99btLvR9anBOHU2x90t01o2VqDXj6o2GhKkzJbSaZBawvrebDV5ukdhWJ5NchDr8LYtbGlxZLsRpd7K-97gBrmGN55ERuiSy3JnJ7qxPo9Rfj4adO6s1JBGoMofJ_EhAe0dPQHet7KvJc-hCM5Q-jGhQ-WrSpDm4AeKdWPogFUexY4JJNFg',\n                        'width': 2048},\n                       {'height': 1200,\n                        'html_attributions': ['<a '\n                                              'href=\"https://maps.google.com/maps/contrib/106232258578788305357\">ED '\n                                              'McCoy</a>'],\n                        'photo_reference': 'CmRaAAAADvLbYpJ-Av7YWiQlTY_HwbP8pUttZP5khsWqUegAjLivrisVDYzatY0L2BZ2xPCOAUk5oUBhL6hQEnS6PoIhY4fBmfPnoM5_flj7EEnoeeYIVWj1iDzknmJQy9afM53zEhCyY-cyW-poqKQjXZV0Mxn3GhSbghkjlDkFG-6cPWA8rdXrCkxdcA',\n                        'width': 1600},\n                       {'height': 2448,\n                        'html_attributions': ['<a '\n                                              'href=\"https://maps.google.com/maps/contrib/115194000911459234123\">James '\n                                              'Winters</a>'],\n                        'photo_reference': 'CmRaAAAA7_UToT8d6VXPbaC6M2460vtMIk6lfklb_gJdX83rN_LVGnOCgZvw5yK4lTtd78YcVtTV2hSieBYP3oQOZHP0_UX_GYAyL7elDHsMPpwmDF9KLiMaxlrdI-niIacAlixcEhBypOxCggXRsnfC9Ov0viobGhTCqG31Il26YKApjyzR-b05cz17qg',\n                        'width': 3264}],\n            'place_id': 'ChIJJSmiDrKjrkwRhFVV_A4i32I',\n            'plus_code': {'compound_code': '8PQG+CM Mount Desert, ME, USA',\n                          'global_code': '87PH8PQG+CM'},\n            'rating': 4.9,\n            'reference': 'ChIJJSmiDrKjrkwRhFVV_A4i32I',\n            'reviews': [{'author_name': 'Justin VanSlyke',\n                         'author_url': 'https://www.google.com/maps/contrib/112657670643675422594/reviews',\n                         'language': 'en',\n                         'profile_photo_url': 'https://lh6.ggpht.com/-dmH_DCcyyH8/AAAAAAAAAAI/AAAAAAAAAAA/1zXCxHSv-EU/s128-c0x00000000-cc-rp-mo-ba3/photo.jpg',\n                         'rating': 4,\n                         'relative_time_description': 'in the last week',\n                         'text': 'There were SO many people in the park.  Cars '\n                                 'lining the sides of the loop road for  a '\n                                 'mile on either side of parking areas. People '\n                                 'congested around views many not wearing '\n                                 'masks because they were \"outside\". \\n'\n                                 '\\n'\n                                 'That said, it was gorgeous, the drive was '\n                                 'beautiful, and the Cadillac Mountain sunrise '\n                                 \"was amazing, didn't need a parking pass for \"\n                                 'that!\\n'\n                                 '\\n'\n                                 'Worth the trip for sure, just wish it was a '\n                                 'little less crowded.',\n                         'time': 1596915383},\n                        {'author_name': 'Richard Giguere',\n                         'author_url': 'https://www.google.com/maps/contrib/107329441331623295673/reviews',\n                         'language': 'en',\n                         'profile_photo_url': 'https://lh3.ggpht.com/-ZJN1OVUHSAA/AAAAAAAAAAI/AAAAAAAAAAA/UT1XMON7t0w/s128-c0x00000000-cc-rp-mo-ba4/photo.jpg',\n                         'rating': 5,\n                         'relative_time_description': 'in the last week',\n                         'text': 'The meeting of mountains and the ocean makes '\n                                 'for an amazing place to visit. This is a one '\n                                 'of a kind National Park not to be missed. So '\n                                 'many wonderful hiking trails that being you '\n                                 'to breath taking views.',\n                         'time': 1597021859},\n                        {'author_name': 'CROW SON',\n                         'author_url': 'https://www.google.com/maps/contrib/108606953244565913617/reviews',\n                         'language': 'en',\n                         'profile_photo_url': 'https://lh6.ggpht.com/-onxaaGetAEI/AAAAAAAAAAI/AAAAAAAAAAA/Fz31F_JlH4I/s128-c0x00000000-cc-rp-mo-ba2/photo.jpg',\n                         'rating': 5,\n                         'relative_time_description': 'in the last week',\n                         'text': 'Just an amazing place. So many hiking trails '\n                                 'and the views are always spectacular. Been '\n                                 'going here for a few years now and always '\n                                 'love it. So much to do that you will need '\n                                 'multiple trips.',\n                         'time': 1596987665},\n                        {'author_name': 'Eduardo Mace',\n                         'author_url': 'https://www.google.com/maps/contrib/109233735391220409525/reviews',\n                         'language': 'en',\n                         'profile_photo_url': 'https://lh6.ggpht.com/-JgIl_Y4fWxo/AAAAAAAAAAI/AAAAAAAAAAA/J9nxh4v-Qzw/s128-c0x00000000-cc-rp-mo-ba4/photo.jpg',\n                         'rating': 5,\n                         'relative_time_description': 'in the last week',\n                         'text': 'Most parks are about wildlife, natural '\n                                 'occurrences or history. Acadia is about '\n                                 'scenery.  The perfect mix of sea, rocks and '\n                                 'forest,  mixed with mountain and beaches. '\n                                 'Incredible.',\n                         'time': 1596935056},\n                        {'author_name': 'CheTarra',\n                         'author_url': 'https://www.google.com/maps/contrib/116594206027918253499/reviews',\n                         'language': 'en',\n                         'profile_photo_url': 'https://lh4.ggpht.com/-xfTx9qurMoo/AAAAAAAAAAI/AAAAAAAAAAA/hxWCIV3gtmM/s128-c0x00000000-cc-rp-mo-ba4/photo.jpg',\n                         'rating': 5,\n                         'relative_time_description': 'a week ago',\n                         'text': 'Beautiful! \\n'\n                                 '\\n'\n                                 \"This was my first time visiting and I can't \"\n                                 'wait to explore some more. \\n'\n                                 '\\n'\n                                 'Originally intended to do some camping and '\n                                 'hiking but plans changed. We drove the park '\n                                 'loop on our motorcycle and that was great.\\n'\n                                 '\\n'\n                                 'We went down to the beach and up to Cadillac '\n                                 'mountain. There are plenty of places along '\n                                 'the way to stop and take pictures and just '\n                                 'take it all in. \\n'\n                                 '\\n'\n                                 'We bought souvenirs and stamped our National '\n                                 'Park Passport at the Jordan Pond gift shop.',\n                         'time': 1596457981}],\n            'scope': 'GOOGLE',\n            'types': ['tourist_attraction',\n                      'park',\n                      'point_of_interest',\n                      'establishment'],\n            'url': 'https://maps.google.com/?cid=7124450583281751428',\n            'user_ratings_total': 12026,\n            'utc_offset': -240,\n            'vicinity': 'ME',\n            'website': 'https://www.nps.gov/acad/index.htm'},\n 'status': 'OK'}\n"
    }
   ],
   "source": [
    "yosemite_data=response2.json()\n",
    "pprint(yosemite_data)"
   ]
  },
  {
   "cell_type": "code",
   "execution_count": 36,
   "metadata": {},
   "outputs": [
    {
     "name": "stdout",
     "output_type": "stream",
     "text": [
      "Yosemite National Park\n",
      "4.8\n",
      "34183\n"
     ]
    }
   ],
   "source": [
    "print(yosemite_data[\"result\"][\"name\"])\n",
    "print(yosemite_data[\"result\"][\"rating\"])\n",
    "print(yosemite_data[\"result\"][\"user_ratings_total\"])"
   ]
  },
  {
   "cell_type": "code",
   "execution_count": 37,
   "metadata": {},
   "outputs": [],
   "source": []
  },
  {
   "cell_type": "code",
   "execution_count": null,
   "metadata": {},
   "outputs": [],
   "source": []
  },
  {
   "cell_type": "code",
   "execution_count": 40,
   "metadata": {},
   "outputs": [],
   "source": []
  },
  {
   "cell_type": "code",
   "execution_count": null,
   "metadata": {},
   "outputs": [],
   "source": []
  },
  {
   "cell_type": "code",
   "execution_count": null,
   "metadata": {},
   "outputs": [],
   "source": []
  },
  {
   "cell_type": "markdown",
   "metadata": {},
   "source": [
    "### Transform Yelp! Data"
   ]
  },
  {
   "cell_type": "code",
   "execution_count": null,
   "metadata": {},
   "outputs": [],
   "source": []
  },
  {
   "cell_type": "markdown",
   "metadata": {},
   "source": [
    "### Create Database Connection"
   ]
  },
  {
   "cell_type": "code",
   "execution_count": null,
   "metadata": {},
   "outputs": [],
   "source": []
  },
  {
   "cell_type": "markdown",
   "metadata": {},
   "source": [
    "### Load DataFrames into Database"
   ]
  },
  {
   "cell_type": "code",
   "execution_count": null,
   "metadata": {},
   "outputs": [],
   "source": []
  }
 ],
 "metadata": {
  "kernelspec": {
   "display_name": "Python 3.6.10 64-bit ('PythonData': conda)",
   "language": "python",
   "name": "python361064bitpythondataconda2a9a3c884c40400db426ae2e3e580487"
  },
  "language_info": {
   "codemirror_mode": {
    "name": "ipython",
    "version": 3
   },
   "file_extension": ".py",
   "mimetype": "text/x-python",
   "name": "python",
   "nbconvert_exporter": "python",
   "pygments_lexer": "ipython3",
   "version": "3.6.10-final"
  }
 },
 "nbformat": 4,
 "nbformat_minor": 2
}